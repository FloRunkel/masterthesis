{
 "cells": [
  {
   "cell_type": "markdown",
   "metadata": {},
   "source": [
    "### GRU PIPELINE"
   ]
  },
  {
   "cell_type": "code",
   "execution_count": 1,
   "metadata": {},
   "outputs": [
    {
     "name": "stderr",
     "output_type": "stream",
     "text": [
      "/Library/Frameworks/Python.framework/Versions/3.12/lib/python3.12/site-packages/tqdm/auto.py:21: TqdmWarning: IProgress not found. Please update jupyter and ipywidgets. See https://ipywidgets.readthedocs.io/en/stable/user_install.html\n",
      "  from .autonotebook import tqdm as notebook_tqdm\n"
     ]
    }
   ],
   "source": [
    "from sklearn.metrics import f1_score\n",
    "from pytorch_lightning import Trainer\n",
    "from datetime import datetime\n",
    "import torch\n",
    "import os\n",
    "from sklearn.metrics import mean_squared_error, mean_absolute_error, r2_score\n",
    "import numpy as np\n",
    "import pytorch_lightning as pl\n",
    "\n",
    "import sys\n",
    "sys.path.insert(0, '/Users/florianrunkel/Documents/02_Uni/04_Masterarbeit/masterthesis/')\n",
    "\n",
    "from backend.ml_pipe.data.database.mongodb import MongoDb\n",
    "from backend.ml_pipe.data.dataModule.gru.dataModule import DataModule\n",
    "from backend.ml_pipe.models.gru.model import GRUModel\n"
   ]
  },
  {
   "cell_type": "code",
   "execution_count": null,
   "metadata": {},
   "outputs": [
    {
     "name": "stderr",
     "output_type": "stream",
     "text": [
      "GPU available: True (mps), used: True\n",
      "TPU available: False, using: 0 TPU cores\n",
      "HPU available: False, using: 0 HPUs\n",
      "\n",
      "  | Name    | Type    | Params | Mode \n",
      "--------------------------------------------\n",
      "0 | gru     | GRU     | 151 K  | train\n",
      "1 | fc_out  | Linear  | 129    | train\n",
      "2 | loss_fn | MSELoss | 0      | train\n",
      "--------------------------------------------\n",
      "151 K     Trainable params\n",
      "0         Non-trainable params\n",
      "151 K     Total params\n",
      "0.607     Total estimated model params size (MB)\n",
      "3         Modules in train mode\n",
      "0         Modules in eval mode\n"
     ]
    },
    {
     "name": "stdout",
     "output_type": "stream",
     "text": [
      "\n",
      "Datensatz aufgeteilt in:\n",
      "- Training: 83686 Einträge\n",
      "- Validierung: 17932 Einträge\n",
      "- Test: 17934 Einträge\n",
      "<torch.utils.data.dataloader.DataLoader object at 0x33409fe30>\n",
      "                                                                           \r"
     ]
    },
    {
     "name": "stderr",
     "output_type": "stream",
     "text": [
      "/Library/Frameworks/Python.framework/Versions/3.12/lib/python3.12/site-packages/pytorch_lightning/trainer/connectors/data_connector.py:420: Consider setting `persistent_workers=True` in 'train_dataloader' to speed up the dataloader worker initialization.\n"
     ]
    },
    {
     "name": "stdout",
     "output_type": "stream",
     "text": [
      "Epoch 6: 100%|██████████| 2616/2616 [00:48<00:00, 53.62it/s, v_num=11, train_loss=8.8e+4, val_loss=2.66e+5] \n"
     ]
    },
    {
     "name": "stderr",
     "output_type": "stream",
     "text": [
      "/Library/Frameworks/Python.framework/Versions/3.12/lib/python3.12/site-packages/pytorch_lightning/trainer/connectors/data_connector.py:420: Consider setting `persistent_workers=True` in 'test_dataloader' to speed up the dataloader worker initialization.\n"
     ]
    },
    {
     "name": "stdout",
     "output_type": "stream",
     "text": [
      "Testing DataLoader 0: 100%|██████████| 561/561 [00:01<00:00, 415.58it/s]\n"
     ]
    },
    {
     "data": {
      "text/html": [
       "<pre style=\"white-space:pre;overflow-x:auto;line-height:normal;font-family:Menlo,'DejaVu Sans Mono',consolas,'Courier New',monospace\">┏━━━━━━━━━━━━━━━━━━━━━━━━━━━┳━━━━━━━━━━━━━━━━━━━━━━━━━━━┓\n",
       "┃<span style=\"font-weight: bold\">        Test metric        </span>┃<span style=\"font-weight: bold\">       DataLoader 0        </span>┃\n",
       "┡━━━━━━━━━━━━━━━━━━━━━━━━━━━╇━━━━━━━━━━━━━━━━━━━━━━━━━━━┩\n",
       "│<span style=\"color: #008080; text-decoration-color: #008080\">         test_loss         </span>│<span style=\"color: #800080; text-decoration-color: #800080\">      110109.5234375       </span>│\n",
       "└───────────────────────────┴───────────────────────────┘\n",
       "</pre>\n"
      ],
      "text/plain": [
       "┏━━━━━━━━━━━━━━━━━━━━━━━━━━━┳━━━━━━━━━━━━━━━━━━━━━━━━━━━┓\n",
       "┃\u001b[1m \u001b[0m\u001b[1m       Test metric       \u001b[0m\u001b[1m \u001b[0m┃\u001b[1m \u001b[0m\u001b[1m      DataLoader 0       \u001b[0m\u001b[1m \u001b[0m┃\n",
       "┡━━━━━━━━━━━━━━━━━━━━━━━━━━━╇━━━━━━━━━━━━━━━━━━━━━━━━━━━┩\n",
       "│\u001b[36m \u001b[0m\u001b[36m        test_loss        \u001b[0m\u001b[36m \u001b[0m│\u001b[35m \u001b[0m\u001b[35m     110109.5234375      \u001b[0m\u001b[35m \u001b[0m│\n",
       "└───────────────────────────┴───────────────────────────┘\n"
      ]
     },
     "metadata": {},
     "output_type": "display_data"
    },
    {
     "name": "stdout",
     "output_type": "stream",
     "text": [
      "Modell gespeichert unter: saved_models/gru_model_20250520_180845.pt\n"
     ]
    }
   ],
   "source": [
    "\n",
    "def run_pipeline():\n",
    "    # Datenquelle initialisieren\n",
    "    mongo = MongoDb()\n",
    "    datamodule = DataModule(mongo, batch_size=32)\n",
    "    datamodule.setup()\n",
    "    print(datamodule.train_dataloader())\n",
    "    \n",
    "    # Modell mit neuen Parametern initialisieren\n",
    "    model = GRUModel(\n",
    "        seq_input_size=8,      # Features pro Zeitschritt (level, branche, duration_months, etc.)\n",
    "        hidden_size=128,       # Größerer Hidden Layer für komplexere Muster\n",
    "        num_layers=2,          # 2 GRU-Schichten\n",
    "        dropout=0.3,           # Dropout gegen Overfitting\n",
    "        lr=0.001              # Lernrate\n",
    "    )\n",
    "\n",
    "    # Trainer Setup\n",
    "    trainer = Trainer(\n",
    "        max_epochs=10,                    # Mehr Epochen für besseres Lernen\n",
    "        enable_checkpointing=True,\n",
    "        logger=True,\n",
    "        enable_model_summary=True,\n",
    "        log_every_n_steps=2,\n",
    "        accelerator=\"auto\",\n",
    "        devices=\"auto\",\n",
    "        callbacks=[\n",
    "            pl.callbacks.EarlyStopping(\n",
    "                monitor='val_loss',\n",
    "                patience=5,\n",
    "                mode='min'\n",
    "            ),\n",
    "            pl.callbacks.ModelCheckpoint(\n",
    "                monitor='val_loss',\n",
    "                mode='min',\n",
    "                save_top_k=3\n",
    "            )\n",
    "        ]\n",
    "    )\n",
    "\n",
    "    # Training\n",
    "    trainer.fit(model, datamodule=datamodule)\n",
    "\n",
    "    # Testdaten durchlaufen\n",
    "    trainer.test(model, datamodule=datamodule)\n",
    "\n",
    "    model.eval()\n",
    "    model.freeze()\n",
    "    \n",
    "    # Modell speichern\n",
    "    timestamp = datetime.now().strftime(\"%Y%m%d_%H%M%S\")\n",
    "    model_path = f\"saved_models/gru_model_{timestamp}.pt\"\n",
    "\n",
    "    # Ordner anlegen (falls nicht vorhanden) und Modell speichern\n",
    "    os.makedirs(os.path.dirname(model_path), exist_ok=True)\n",
    "    torch.save(model.state_dict(), model_path)\n",
    "\n",
    "    print(f\"Modell gespeichert unter: {model_path}\")\n",
    "\n",
    "# Pipeline ausführen\n",
    "run_pipeline()"
   ]
  },
  {
   "cell_type": "code",
   "execution_count": 1,
   "metadata": {},
   "outputs": [
    {
     "name": "stderr",
     "output_type": "stream",
     "text": [
      "/Library/Frameworks/Python.framework/Versions/3.12/lib/python3.12/site-packages/tqdm/auto.py:21: TqdmWarning: IProgress not found. Please update jupyter and ipywidgets. See https://ipywidgets.readthedocs.io/en/stable/user_install.html\n",
      "  from .autonotebook import tqdm as notebook_tqdm\n"
     ]
    },
    {
     "name": "stdout",
     "output_type": "stream",
     "text": [
      "{'skills': ['Multitasking', 'Kundenservice', 'Interpersonelle Fähigkeiten', 'Kaltakquise', 'Hubspot CRM', 'Customer-Relationship-Management (CRM)'], 'firstName': 'Darya', 'lastName': 'Chernuska', 'profilePicture': 'https://media.licdn.com/dms/image/v2/D4E03AQE0yuZ6cg8f4A/profile-displayphoto-shrink_100_100/profile-displayphoto-shrink_100_100/0/1670856025914?e=1749686400&v=beta&t=jI1mkiVnkD7teWPncsg8QtKAwZKB-az53_4ny7C7XvI', 'linkedinProfile': 'https://www.linkedin.com/in/daryachernuska', 'education': [{'duration': '01/01/2017 - 01/01/2022', 'institution': 'Ludwig-Maximilians-Universität München', 'endDate': '01/01/2022', 'degree': '', 'startDate': '01/01/2017'}], 'providerId': 'ACoAAD0rz_IBI0XfqqBDUscwHoFwuOqJa_c5T2I', 'workExperience': [{'duration': '01/03/2023 - Present', 'endDate': 'Present', 'companyInformation': {'employee_count': 515, 'activities': ['Telefonie', 'Internet', 'Vernetzung', 'Rechenzentrum', 'Glasfaser', 'Highspeed-Internet', 'Business-Internet', 'SIP-Trunk', 'Cloud-Lösungen', 'Connect-Cloud', 'Connect-LAN', 'Premium IP', 'Internet + Telefonie', 'Lösungen für Geschäftskunden'], 'name': 'M-net Telekommunikations GmbH', 'description': 'Als regionaler Telekommunikationsanbieter versorgt M-net große Teile Bayerns, den Großraum Ulm sowie weite Teile des hessischen Landkreises Main-Kinzig mit zukunftssicherer Kommunikationstechnologie.', 'industry': ['Telecommunications']}, 'description': '', 'company': 'M-net Telekommunikations GmbH', 'location': 'München, Bayern, Deutschland · Hybrid', 'position': 'Disponentin', 'startDate': '01/03/2023'}, {'duration': '01/08/2022 - 01/12/2022', 'endDate': '01/12/2022', 'companyInformation': {'employee_count': 2048, 'activities': ['HR Software', 'HR Management', 'Recruitung', 'Employee Management', 'Applicant Tracking System', 'Employee Selfservice', 'Time-Off Management', 'Cloud Software', 'Onboarding and Offboarding', 'HR Reporting', 'Performance Management', 'Payroll', 'HR', 'HR Tech', 'Human Resources'], 'name': 'Personio', 'description': \"Personio's Intelligent HR Platform helps small and medium-sized organizations unlock the power of people by making complicated, time-consuming tasks simple and efficient.\", 'industry': ['Software Development']}, 'description': '', 'company': 'Personio', 'location': 'München, Bayern, Deutschland', 'position': 'Sales Development Representative', 'startDate': '01/08/2022'}, {'duration': '01/11/2017 - 01/07/2022', 'endDate': '01/07/2022', 'companyInformation': {'employee_count': 662, 'activities': ['Scandinavian design', 'Furniture', 'Design', 'Product design', 'Retail', 'Web', 'Steelcase partner', 'Wholesale', 'B2B', 'Contract sales', 'Online', 'Digital', 'Creativity'], 'name': 'BOLIA', 'description': 'Our collection is inspired by the vivid Scandinavian nature', 'industry': ['Retail Furniture and Home Furnishings']}, 'description': '', 'company': 'Bolia.com', 'location': 'München, Bayern, Deutschland', 'position': 'Sales Consultant', 'startDate': '01/11/2017'}, {'duration': '01/10/2015 - 01/11/2017', 'endDate': '01/11/2017', 'companyInformation': {}, 'description': '', 'company': 'Pepperminds', 'location': 'München, Bayern, Deutschland', 'position': 'Senior Team Lead', 'startDate': '01/10/2015'}], 'location': 'Munich, Bavaria, Germany', 'certifications': [], 'headline': '-', 'languageSkills': {}}\n",
      "\n",
      "Feature-Werte:\n",
      "Berufserfahrung: 2910.0\n",
      "Anzahl Wechsel: 3.0\n",
      "Anzahl Jobs: 4.0\n",
      "Durchschnittsdauer Jobs: 862.3333333333334\n",
      "Zeitpunkt: 1695074400.0\n",
      "Level: 0.0\n",
      "Branche: 0.0\n",
      "Aktuelle Position: Disponentin\n",
      "\n",
      "Modellgewichte:\n",
      "gru.weight_ih_l0: -0.0008 (Mittelwert)\n",
      "gru.weight_hh_l0: -0.0001 (Mittelwert)\n",
      "gru.bias_ih_l0: -0.0005 (Mittelwert)\n",
      "gru.bias_hh_l0: -0.0011 (Mittelwert)\n",
      "gru.weight_ih_l1: -0.0038 (Mittelwert)\n",
      "gru.weight_hh_l1: 0.0003 (Mittelwert)\n",
      "gru.bias_ih_l1: -0.0683 (Mittelwert)\n",
      "gru.bias_hh_l1: -0.0626 (Mittelwert)\n",
      "fc_out.weight: -0.0272 (Mittelwert)\n",
      "fc_out.bias: 1.8737 (Mittelwert)\n",
      "\n",
      "GRU Ausgabe: -0.02319972775876522\n",
      "GRU letzter Output: -0.02319972775876522\n",
      "Finale Ausgabe: 240.94363403320312\n",
      "\n",
      "Modell-Ausgabe:\n",
      "Rohausgabe: tensor([[240.9436]])\n",
      "Tage bis zum Wechsel: 240.94363403320312\n"
     ]
    },
    {
     "name": "stderr",
     "output_type": "stream",
     "text": [
      "/Users/florianrunkel/Documents/02_Uni/04_Masterarbeit/masterthesis/backend/ml_pipe/models/gru/predict.py:122: FutureWarning: You are using `torch.load` with `weights_only=False` (the current default value), which uses the default pickle module implicitly. It is possible to construct malicious pickle data which will execute arbitrary code during unpickling (See https://github.com/pytorch/pytorch/blob/main/SECURITY.md#untrusted-models for more details). In a future release, the default value for `weights_only` will be flipped to `True`. This limits the functions that could be executed during unpickling. Arbitrary objects will no longer be allowed to be loaded via this mode unless they are explicitly allowlisted by the user via `torch.serialization.add_safe_globals`. We recommend you start setting `weights_only=True` for any use case where you don't have full control of the loaded file. Please open an issue on GitHub for any issues related to this experimental feature.\n",
      "  checkpoint = torch.load(model_path, map_location=torch.device('cpu'))\n"
     ]
    },
    {
     "name": "stdout",
     "output_type": "stream",
     "text": [
      "\n",
      "Vorhersageergebnis:\n",
      "Tage bis zum Wechsel: 240.94363403320312\n",
      "Status: langfristig\n",
      "\n",
      "Empfehlungen:\n",
      "- Jobwechsel in weiterer Zukunft (> 6 Monate)\n",
      "\n",
      "Feature-Wichtigkeiten:\n",
      "- Berufserfahrung: 100.0% - Die Gesamtberufserfahrung bis zum aktuellen Zeitpunkt\n"
     ]
    },
    {
     "name": "stderr",
     "output_type": "stream",
     "text": [
      "/Library/Frameworks/Python.framework/Versions/3.12/lib/python3.12/site-packages/shap/explainers/_deep/deep_pytorch.py:255: UserWarning: unrecognized nn.Module: GRU\n",
      "  warnings.warn(f\"unrecognized nn.Module: {module_type}\")\n"
     ]
    }
   ],
   "source": [
    "import sys\n",
    "import json\n",
    "sys.path.insert(0, '/Users/florianrunkel/Documents/02_Uni/04_Masterarbeit/masterthesis/')\n",
    "\n",
    "from backend.ml_pipe.models.gru.predict import predict\n",
    "\n",
    "# LinkedIn Profildaten als Raw-String (beachte das 'r' vor dem String)\n",
    "linkedin_data_str = r'''{\"skills\":[\"Multitasking\",\"Kundenservice\",\"Interpersonelle Fähigkeiten\",\"Kaltakquise\",\"Hubspot CRM\",\"Customer-Relationship-Management (CRM)\"],\"firstName\":\"Darya\",\"lastName\":\"Chernuska\",\"profilePicture\":\"https://media.licdn.com/dms/image/v2/D4E03AQE0yuZ6cg8f4A/profile-displayphoto-shrink_100_100/profile-displayphoto-shrink_100_100/0/1670856025914?e=1749686400&v=beta&t=jI1mkiVnkD7teWPncsg8QtKAwZKB-az53_4ny7C7XvI\",\"linkedinProfile\":\"https://www.linkedin.com/in/daryachernuska\",\"education\":[{\"duration\":\"01/01/2017 - 01/01/2022\",\"institution\":\"Ludwig-Maximilians-Universität München\",\"endDate\":\"01/01/2022\",\"degree\":\"\",\"startDate\":\"01/01/2017\"}],\"providerId\":\"ACoAAD0rz_IBI0XfqqBDUscwHoFwuOqJa_c5T2I\",\"workExperience\":[{\"duration\":\"01/03/2023 - Present\",\"endDate\":\"Present\",\"companyInformation\":{\"employee_count\":515,\"activities\":[\"Telefonie\",\"Internet\",\"Vernetzung\",\"Rechenzentrum\",\"Glasfaser\",\"Highspeed-Internet\",\"Business-Internet\",\"SIP-Trunk\",\"Cloud-Lösungen\",\"Connect-Cloud\",\"Connect-LAN\",\"Premium IP\",\"Internet + Telefonie\",\"Lösungen für Geschäftskunden\"],\"name\":\"M-net Telekommunikations GmbH\",\"description\":\"Als regionaler Telekommunikationsanbieter versorgt M-net große Teile Bayerns, den Großraum Ulm sowie weite Teile des hessischen Landkreises Main-Kinzig mit zukunftssicherer Kommunikationstechnologie.\",\"industry\":[\"Telecommunications\"]},\"description\":\"\",\"company\":\"M-net Telekommunikations GmbH\",\"location\":\"München, Bayern, Deutschland · Hybrid\",\"position\":\"Disponentin\",\"startDate\":\"01/03/2023\"},{\"duration\":\"01/08/2022 - 01/12/2022\",\"endDate\":\"01/12/2022\",\"companyInformation\":{\"employee_count\":2048,\"activities\":[\"HR Software\",\"HR Management\",\"Recruitung\",\"Employee Management\",\"Applicant Tracking System\",\"Employee Selfservice\",\"Time-Off Management\",\"Cloud Software\",\"Onboarding and Offboarding\",\"HR Reporting\",\"Performance Management\",\"Payroll\",\"HR\",\"HR Tech\",\"Human Resources\"],\"name\":\"Personio\",\"description\":\"Personio's Intelligent HR Platform helps small and medium-sized organizations unlock the power of people by making complicated, time-consuming tasks simple and efficient.\",\"industry\":[\"Software Development\"]},\"description\":\"\",\"company\":\"Personio\",\"location\":\"München, Bayern, Deutschland\",\"position\":\"Sales Development Representative\",\"startDate\":\"01/08/2022\"},{\"duration\":\"01/11/2017 - 01/07/2022\",\"endDate\":\"01/07/2022\",\"companyInformation\":{\"employee_count\":662,\"activities\":[\"Scandinavian design\",\"Furniture\",\"Design\",\"Product design\",\"Retail\",\"Web\",\"Steelcase partner\",\"Wholesale\",\"B2B\",\"Contract sales\",\"Online\",\"Digital\",\"Creativity\"],\"name\":\"BOLIA\",\"description\":\"Our collection is inspired by the vivid Scandinavian nature\",\"industry\":[\"Retail Furniture and Home Furnishings\"]},\"description\":\"\",\"company\":\"Bolia.com\",\"location\":\"München, Bayern, Deutschland\",\"position\":\"Sales Consultant\",\"startDate\":\"01/11/2017\"},{\"duration\":\"01/10/2015 - 01/11/2017\",\"endDate\":\"01/11/2017\",\"companyInformation\":{},\"description\":\"\",\"company\":\"Pepperminds\",\"location\":\"München, Bayern, Deutschland\",\"position\":\"Senior Team Lead\",\"startDate\":\"01/10/2015\"}],\"location\":\"Munich, Bavaria, Germany\",\"certifications\":[],\"headline\":\"-\",\"languageSkills\":{}}'''\n",
    "\n",
    "try:\n",
    "    # JSON-String in Dictionary umwandeln\n",
    "    profile_data = json.loads(linkedin_data_str)\n",
    "    \n",
    "    # Vorhersage machen\n",
    "    result = predict(profile_data, with_llm_explanation=True)\n",
    "    print(\"\\nVorhersageergebnis:\")\n",
    "    print(f\"Tage bis zum Wechsel: {result['confidence']}\")\n",
    "    print(f\"Status: {result['status']}\")\n",
    "    print(\"\\nEmpfehlungen:\")\n",
    "    for rec in result['recommendations']:\n",
    "        print(f\"- {rec}\")\n",
    "    print(\"\\nFeature-Wichtigkeiten:\")\n",
    "    for exp in result['explanations']:\n",
    "        print(f\"- {exp['feature']}: {exp['impact_percentage']:.1f}% - {exp['description']}\")\n",
    "        \n",
    "except json.JSONDecodeError as e:\n",
    "    print(f\"JSON Fehler: {str(e)}\")\n",
    "    print(f\"Fehler an Position: {e.pos}\")\n",
    "    print(f\"Zeile: {e.lineno}, Spalte: {e.colno}\")"
   ]
  }
 ],
 "metadata": {
  "kernelspec": {
   "display_name": "Python 3",
   "language": "python",
   "name": "python3"
  },
  "language_info": {
   "codemirror_mode": {
    "name": "ipython",
    "version": 3
   },
   "file_extension": ".py",
   "mimetype": "text/x-python",
   "name": "python",
   "nbconvert_exporter": "python",
   "pygments_lexer": "ipython3",
   "version": "3.12.1"
  }
 },
 "nbformat": 4,
 "nbformat_minor": 2
}
