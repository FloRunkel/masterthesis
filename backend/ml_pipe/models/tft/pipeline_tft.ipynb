{
 "cells": [
  {
   "cell_type": "markdown",
   "metadata": {},
   "source": [
    "### TFT PIPELINE"
   ]
  },
  {
   "cell_type": "code",
   "execution_count": 1,
   "metadata": {},
   "outputs": [
    {
     "name": "stderr",
     "output_type": "stream",
     "text": [
      "/Library/Frameworks/Python.framework/Versions/3.12/lib/python3.12/site-packages/tqdm/auto.py:21: TqdmWarning: IProgress not found. Please update jupyter and ipywidgets. See https://ipywidgets.readthedocs.io/en/stable/user_install.html\n",
      "  from .autonotebook import tqdm as notebook_tqdm\n"
     ]
    }
   ],
   "source": [
    "import torch\n",
    "import numpy as np\n",
    "from datetime import datetime\n",
    "import os\n",
    "from pytorch_lightning import Trainer\n",
    "from pytorch_lightning.callbacks import ModelCheckpoint, EarlyStopping\n",
    "from pytorch_lightning.loggers import TensorBoardLogger\n",
    "import sys\n",
    "sys.path.insert(0, '/Users/florianrunkel/Documents/02_Uni/04_Masterarbeit/masterthesis/')\n",
    "\n",
    "from backend.ml_pipe.data.dataModule.tft.dataModule import CareerDataModule\n",
    "from backend.ml_pipe.models.tft.model import TFTModel"
   ]
  },
  {
   "cell_type": "code",
   "execution_count": 2,
   "metadata": {},
   "outputs": [
    {
     "name": "stdout",
     "output_type": "stream",
     "text": [
      "Starte Karriere-Vorhersage Pipeline...\n",
      "\n",
      "Lade Daten aus MongoDB...\n"
     ]
    },
    {
     "name": "stderr",
     "output_type": "stream",
     "text": [
      "GPU available: True (mps), used: True\n",
      "TPU available: False, using: 0 TPU cores\n",
      "HPU available: False, using: 0 HPUs\n"
     ]
    },
    {
     "name": "stdout",
     "output_type": "stream",
     "text": [
      "{'_id': '681c75686814a40634015e68', 'aktuelle_position': 'Sales Manager Europe', 'zeitpunkt': '01/05/2025', 'label': 1, 'wechselzeitraum': 0}\n",
      "\n",
      "Datensatz aufgeteilt in:\n",
      "- Training: 2174 Einträge\n",
      "- Validierung: 466 Einträge\n",
      "- Test: 467 Einträge\n",
      "\n",
      "Datensatzgrößen:\n",
      "- Training: 2174 Kandidaten\n",
      "- Validierung: 466 Kandidaten\n",
      "- Test: 467 Kandidaten\n",
      "\n",
      "Initialisiere TFT Modell...\n",
      "\n",
      "Starte Training...\n"
     ]
    },
    {
     "name": "stderr",
     "output_type": "stream",
     "text": [
      "/Library/Frameworks/Python.framework/Versions/3.12/lib/python3.12/site-packages/torch/optim/lr_scheduler.py:62: UserWarning: The verbose parameter is deprecated. Please use get_last_lr() to access the learning rate.\n",
      "  warnings.warn(\n",
      "\n",
      "  | Name               | Type             | Params | Mode \n",
      "----------------------------------------------------------------\n",
      "0 | position_embedding | Embedding        | 32.0 K | train\n",
      "1 | classifier         | Sequential       | 2.4 K  | train\n",
      "2 | loss_fn            | CrossEntropyLoss | 0      | train\n",
      "----------------------------------------------------------------\n",
      "34.4 K    Trainable params\n",
      "0         Non-trainable params\n",
      "34.4 K    Total params\n",
      "0.138     Total estimated model params size (MB)\n",
      "7         Modules in train mode\n",
      "0         Modules in eval mode\n"
     ]
    },
    {
     "name": "stdout",
     "output_type": "stream",
     "text": [
      "{'_id': '681c75686814a40634015e68', 'aktuelle_position': 'Sales Manager Europe', 'zeitpunkt': '01/05/2025', 'label': 1, 'wechselzeitraum': 0}\n",
      "\n",
      "Datensatz aufgeteilt in:\n",
      "- Training: 2174 Einträge\n",
      "- Validierung: 466 Einträge\n",
      "- Test: 467 Einträge\n",
      "Sanity Checking: |          | 0/? [00:00<?, ?it/s]"
     ]
    },
    {
     "name": "stderr",
     "output_type": "stream",
     "text": [
      "/Library/Frameworks/Python.framework/Versions/3.12/lib/python3.12/site-packages/pytorch_lightning/trainer/connectors/data_connector.py:419: Consider setting `persistent_workers=True` in 'val_dataloader' to speed up the dataloader worker initialization.\n"
     ]
    },
    {
     "name": "stdout",
     "output_type": "stream",
     "text": [
      "                                                                           \r"
     ]
    },
    {
     "name": "stderr",
     "output_type": "stream",
     "text": [
      "/Library/Frameworks/Python.framework/Versions/3.12/lib/python3.12/site-packages/pytorch_lightning/trainer/connectors/data_connector.py:419: Consider setting `persistent_workers=True` in 'train_dataloader' to speed up the dataloader worker initialization.\n"
     ]
    },
    {
     "name": "stdout",
     "output_type": "stream",
     "text": [
      "Epoch 1: 100%|██████████| 68/68 [00:48<00:00,  1.39it/s, v_num=8, train_loss=0.888, train_acc=0.633, val_loss=0.831, val_acc=0.680]"
     ]
    },
    {
     "name": "stderr",
     "output_type": "stream",
     "text": [
      "`Trainer.fit` stopped: `max_epochs=2` reached.\n"
     ]
    },
    {
     "name": "stdout",
     "output_type": "stream",
     "text": [
      "Epoch 1: 100%|██████████| 68/68 [00:49<00:00,  1.39it/s, v_num=8, train_loss=0.888, train_acc=0.633, val_loss=0.831, val_acc=0.680]\n",
      "\n",
      "Evaluiere Modell auf Testdaten...\n",
      "{'_id': '681c75686814a40634015e68', 'aktuelle_position': 'Sales Manager Europe', 'zeitpunkt': '01/05/2025', 'label': 1, 'wechselzeitraum': 0}\n",
      "\n",
      "Datensatz aufgeteilt in:\n",
      "- Training: 2174 Einträge\n",
      "- Validierung: 466 Einträge\n",
      "- Test: 467 Einträge\n"
     ]
    },
    {
     "name": "stderr",
     "output_type": "stream",
     "text": [
      "/Library/Frameworks/Python.framework/Versions/3.12/lib/python3.12/site-packages/pytorch_lightning/trainer/connectors/data_connector.py:419: Consider setting `persistent_workers=True` in 'test_dataloader' to speed up the dataloader worker initialization.\n"
     ]
    },
    {
     "name": "stdout",
     "output_type": "stream",
     "text": [
      "Testing DataLoader 0: 100%|██████████| 15/15 [00:00<00:00, 30.02it/s]\n"
     ]
    },
    {
     "data": {
      "text/html": [
       "<pre style=\"white-space:pre;overflow-x:auto;line-height:normal;font-family:Menlo,'DejaVu Sans Mono',consolas,'Courier New',monospace\">┏━━━━━━━━━━━━━━━━━━━━━━━━━━━┳━━━━━━━━━━━━━━━━━━━━━━━━━━━┓\n",
       "┃<span style=\"font-weight: bold\">        Test metric        </span>┃<span style=\"font-weight: bold\">       DataLoader 0        </span>┃\n",
       "┡━━━━━━━━━━━━━━━━━━━━━━━━━━━╇━━━━━━━━━━━━━━━━━━━━━━━━━━━┩\n",
       "│<span style=\"color: #008080; text-decoration-color: #008080\">         test_acc          </span>│<span style=\"color: #800080; text-decoration-color: #800080\">    0.7259100675582886     </span>│\n",
       "│<span style=\"color: #008080; text-decoration-color: #008080\">         test_loss         </span>│<span style=\"color: #800080; text-decoration-color: #800080\">    0.8096354007720947     </span>│\n",
       "└───────────────────────────┴───────────────────────────┘\n",
       "</pre>\n"
      ],
      "text/plain": [
       "┏━━━━━━━━━━━━━━━━━━━━━━━━━━━┳━━━━━━━━━━━━━━━━━━━━━━━━━━━┓\n",
       "┃\u001b[1m \u001b[0m\u001b[1m       Test metric       \u001b[0m\u001b[1m \u001b[0m┃\u001b[1m \u001b[0m\u001b[1m      DataLoader 0       \u001b[0m\u001b[1m \u001b[0m┃\n",
       "┡━━━━━━━━━━━━━━━━━━━━━━━━━━━╇━━━━━━━━━━━━━━━━━━━━━━━━━━━┩\n",
       "│\u001b[36m \u001b[0m\u001b[36m        test_acc         \u001b[0m\u001b[36m \u001b[0m│\u001b[35m \u001b[0m\u001b[35m   0.7259100675582886    \u001b[0m\u001b[35m \u001b[0m│\n",
       "│\u001b[36m \u001b[0m\u001b[36m        test_loss        \u001b[0m\u001b[36m \u001b[0m│\u001b[35m \u001b[0m\u001b[35m   0.8096354007720947    \u001b[0m\u001b[35m \u001b[0m│\n",
       "└───────────────────────────┴───────────────────────────┘\n"
      ]
     },
     "metadata": {},
     "output_type": "display_data"
    },
    {
     "name": "stdout",
     "output_type": "stream",
     "text": [
      "\n",
      "Speichere Modell...\n",
      "\n",
      "Modell gespeichert unter: saved_models/tft_20250508_151352.pt\n",
      "Beste Validation Loss: 0.8308\n"
     ]
    }
   ],
   "source": [
    "def run_pipeline():\n",
    "    print(\"Starte Karriere-Vorhersage Pipeline...\")\n",
    "    \n",
    "    # Datenmodule initialisieren\n",
    "    print(\"\\nLade Daten aus MongoDB...\")\n",
    "    datamodule = CareerDataModule(batch_size=32)\n",
    "    datamodule.setup()\n",
    "    \n",
    "    print(f\"\\nDatensatzgrößen:\")\n",
    "    print(f\"- Training: {len(datamodule.train_data)} Kandidaten\")\n",
    "    print(f\"- Validierung: {len(datamodule.val_data)} Kandidaten\")\n",
    "    print(f\"- Test: {len(datamodule.test_data)} Kandidaten\")\n",
    "    \n",
    "    # Modell initialisieren\n",
    "    print(\"\\nInitialisiere TFT Modell...\")\n",
    "    model = TFTModel(\n",
    "        sequence_features=2,    # Position + Wechselzeitraum\n",
    "        hidden_size=64,\n",
    "        dropout=0.1\n",
    "    )\n",
    "    \n",
    "    # Callbacks\n",
    "    checkpoint_cb = ModelCheckpoint(\n",
    "        monitor=\"val_loss\",\n",
    "        save_top_k=1,\n",
    "        mode=\"min\",\n",
    "        filename=\"tft-{epoch:02d}-{val_loss:.2f}\"\n",
    "    )\n",
    "    \n",
    "    early_stopping = EarlyStopping(\n",
    "        monitor=\"val_loss\",\n",
    "        patience=5,\n",
    "        mode=\"min\",\n",
    "        min_delta=0.001\n",
    "    )\n",
    "    \n",
    "    # Logger\n",
    "    logger = TensorBoardLogger(\"lightning_logs\", name=\"tft\")\n",
    "    \n",
    "    # Trainer Setup\n",
    "    trainer = Trainer(\n",
    "        max_epochs=2,\n",
    "        logger=logger,\n",
    "        callbacks=[checkpoint_cb, early_stopping],\n",
    "        accelerator=\"auto\",  # Automatische GPU-Erkennung\n",
    "        devices=1,\n",
    "        enable_progress_bar=True,\n",
    "        log_every_n_steps=10\n",
    "    )\n",
    "    \n",
    "    # Training\n",
    "    print(\"\\nStarte Training...\")\n",
    "    trainer.fit(model, datamodule=datamodule)\n",
    "    \n",
    "    # Evaluation auf Testdaten\n",
    "    print(\"\\nEvaluiere Modell auf Testdaten...\")\n",
    "    test_results = trainer.test(model, datamodule=datamodule)\n",
    "    \n",
    "    # Modell speichern\n",
    "    timestamp = datetime.now().strftime(\"%Y%m%d_%H%M%S\")\n",
    "    model_path = f\"saved_models/tft_{timestamp}.pt\"\n",
    "    \n",
    "    print(\"\\nSpeichere Modell...\")\n",
    "    os.makedirs(os.path.dirname(model_path), exist_ok=True)\n",
    "    torch.save({\n",
    "        'model_state_dict': model.state_dict(),\n",
    "        'hyperparameters': model.hparams,\n",
    "        'position_to_idx': datamodule.train_dataset.position_to_idx,\n",
    "        'training_metrics': {\n",
    "            'best_val_loss': checkpoint_cb.best_model_score.item(),\n",
    "        }\n",
    "    }, model_path)\n",
    "    \n",
    "    print(f\"\\nModell gespeichert unter: {model_path}\")\n",
    "    print(f\"Beste Validation Loss: {checkpoint_cb.best_model_score:.4f}\")\n",
    "    \n",
    "    return model, trainer\n",
    "\n",
    "if __name__ == \"__main__\":\n",
    "    model, trainer = run_pipeline()"
   ]
  },
  {
   "cell_type": "code",
   "execution_count": null,
   "metadata": {},
   "outputs": [
    {
     "name": "stdout",
     "output_type": "stream",
     "text": [
      "Positionsname: Disponentin\n",
      "Wechselzeitraum (Monate): 26\n"
     ]
    },
    {
     "ename": "KeyError",
     "evalue": "'Disponentin'",
     "output_type": "error",
     "traceback": [
      "\u001b[0;31m---------------------------------------------------------------------------\u001b[0m",
      "\u001b[0;31mKeyError\u001b[0m                                  Traceback (most recent call last)",
      "Cell \u001b[0;32mIn[8], line 59\u001b[0m\n\u001b[1;32m     55\u001b[0m     position_to_idx \u001b[38;5;241m=\u001b[39m json\u001b[38;5;241m.\u001b[39mload(f)\n\u001b[1;32m     57\u001b[0m \u001b[38;5;66;03m# 6. Eingabevektor für das Modell bauen\u001b[39;00m\n\u001b[1;32m     58\u001b[0m x_seq \u001b[38;5;241m=\u001b[39m torch\u001b[38;5;241m.\u001b[39mtensor(\n\u001b[0;32m---> 59\u001b[0m     [[\u001b[43mposition_to_idx\u001b[49m\u001b[43m[\u001b[49m\u001b[43mpositionsname\u001b[49m\u001b[43m]\u001b[49m, wechselzeitraum]],\n\u001b[1;32m     60\u001b[0m     dtype\u001b[38;5;241m=\u001b[39mtorch\u001b[38;5;241m.\u001b[39mfloat32\n\u001b[1;32m     61\u001b[0m )\n\u001b[1;32m     63\u001b[0m \u001b[38;5;28mprint\u001b[39m(\u001b[38;5;124m\"\u001b[39m\u001b[38;5;124mEingabevektor für Modell:\u001b[39m\u001b[38;5;124m\"\u001b[39m, x_seq)\n\u001b[1;32m     65\u001b[0m \u001b[38;5;66;03m# 7. Modell laden\u001b[39;00m\n",
      "\u001b[0;31mKeyError\u001b[0m: 'Disponentin'"
     ]
    }
   ],
   "source": [
    "import json\n",
    "from datetime import datetime\n",
    "import torch\n",
    "import sys\n",
    "\n",
    "# Optional: Pfad zum Projekt hinzufügen, falls nötig\n",
    "sys.path.insert(0, '/Users/florianrunkel/Documents/02_Uni/04_Masterarbeit/masterthesis/')\n",
    "\n",
    "from backend.ml_pipe.models.tft.model import TFTModel\n",
    "\n",
    "# 1. LinkedIn-Profil-JSON laden (hier als String, sonst aus Datei/DB)\n",
    "profile_str = r'''{\"skills\":[\"Multitasking\",\"Kundenservice\",\"Interpersonelle Fähigkeiten\",\"Kaltakquise\",\"Hubspot CRM\",\"Customer-Relationship-Management (CRM)\"],\"firstName\":\"Darya\",\"lastName\":\"Chernuska\",\"profilePicture\":\"https://media.licdn.com/dms/image/v2/D4E03AQE0yuZ6cg8f4A/profile-displayphoto-shrink_100_100/profile-displayphoto-shrink_100_100/0/1670856025914?e=1749686400&v=beta&t=jI1mkiVnkD7teWPncsg8QtKAwZKB-az53_4ny7C7XvI\",\"linkedinProfile\":\"https://www.linkedin.com/in/daryachernuska\",\"education\":[{\"duration\":\"01/01/2017 - 01/01/2022\",\"institution\":\"Ludwig-Maximilians-Universität München\",\"endDate\":\"01/01/2022\",\"degree\":\"\",\"startDate\":\"01/01/2017\"}],\"providerId\":\"ACoAAD0rz_IBI0XfqqBDUscwHoFwuOqJa_c5T2I\",\"workExperience\":[{\"duration\":\"01/03/2023 - Present\",\"endDate\":\"Present\",\"companyInformation\":{\"employee_count\":515,\"activities\":[\"Telefonie\",\"Internet\",\"Vernetzung\",\"Rechenzentrum\",\"Glasfaser\",\"Highspeed-Internet\",\"Business-Internet\",\"SIP-Trunk\",\"Cloud-Lösungen\",\"Connect-Cloud\",\"Connect-LAN\",\"Premium IP\",\"Internet + Telefonie\",\"Lösungen für Geschäftskunden\"],\"name\":\"M-net Telekommunikations GmbH\",\"description\":\"Als regionaler Telekommunikationsanbieter versorgt M-net große Teile Bayerns, den Großraum Ulm sowie weite Teile des hessischen Landkreises Main-Kinzig mit zukunftssicherer Kommunikationstechnologie.\",\"industry\":[\"Telecommunications\"]},\"description\":\"\",\"company\":\"M-net Telekommunikations GmbH\",\"location\":\"München, Bayern, Deutschland · Hybrid\",\"position\":\"Disponentin\",\"startDate\":\"01/03/2023\"},{\"duration\":\"01/08/2022 - 01/12/2022\",\"endDate\":\"01/12/2022\",\"companyInformation\":{\"employee_count\":2048,\"activities\":[\"HR Software\",\"HR Management\",\"Recruitung\",\"Employee Management\",\"Applicant Tracking System\",\"Employee Selfservice\",\"Time-Off Management\",\"Cloud Software\",\"Onboarding and Offboarding\",\"HR Reporting\",\"Performance Management\",\"Payroll\",\"HR\",\"HR Tech\",\"Human Resources\"],\"name\":\"Personio\",\"description\":\"Personio's Intelligent HR Platform helps small and medium-sized organizations unlock the power of people by making complicated, time-consuming tasks simple and efficient.\",\"industry\":[\"Software Development\"]},\"description\":\"\",\"company\":\"Personio\",\"location\":\"München, Bayern, Deutschland\",\"position\":\"Sales Development Representative\",\"startDate\":\"01/08/2022\"},{\"duration\":\"01/11/2017 - 01/07/2022\",\"endDate\":\"01/07/2022\",\"companyInformation\":{\"employee_count\":662,\"activities\":[\"Scandinavian design\",\"Furniture\",\"Design\",\"Product design\",\"Retail\",\"Web\",\"Steelcase partner\",\"Wholesale\",\"B2B\",\"Contract sales\",\"Online\",\"Digital\",\"Creativity\"],\"name\":\"BOLIA\",\"description\":\"Our collection is inspired by the vivid Scandinavian nature\",\"industry\":[\"Retail Furniture and Home Furnishings\"]},\"description\":\"\",\"company\":\"Bolia.com\",\"location\":\"München, Bayern, Deutschland\",\"position\":\"Sales Consultant\",\"startDate\":\"01/11/2017\"},{\"duration\":\"01/10/2015 - 01/11/2017\",\"endDate\":\"01/11/2017\",\"companyInformation\":{},\"description\":\"\",\"company\":\"Pepperminds\",\"location\":\"München, Bayern, Deutschland\",\"position\":\"Senior Team Lead\",\"startDate\":\"01/10/2015\"}],\"location\":\"Munich, Bavaria, Germany\",\"certifications\":[],\"headline\":\"-\",\"languageSkills\":{}}'''\n",
    "\n",
    "# Füge hier den JSON-String aus deiner CSV ein\n",
    "\n",
    "profile = json.loads(profile_str)\n",
    "work_experience = profile[\"workExperience\"]\n",
    "\n",
    "# 2. Hilfsfunktion für Datums-Parsing\n",
    "def parse_date(date_str):\n",
    "    if date_str == \"Present\":\n",
    "        return datetime.now()\n",
    "    try:\n",
    "        return datetime.strptime(date_str, \"%d/%m/%Y\")\n",
    "    except Exception:\n",
    "        try:\n",
    "            return datetime.strptime(date_str, \"%m/%Y\")\n",
    "        except Exception:\n",
    "            try:\n",
    "                return datetime.strptime(date_str, \"%Y\")\n",
    "            except Exception:\n",
    "                return None\n",
    "\n",
    "# 3. Nach Startdatum sortieren (neueste zuerst)\n",
    "work_experience_sorted = sorted(\n",
    "    work_experience,\n",
    "    key=lambda x: parse_date(x[\"startDate\"]) or datetime(1900, 1, 1),\n",
    "    reverse=True\n",
    ")\n",
    "\n",
    "# 4. Aktuellste Position extrahieren\n",
    "last_position = work_experience_sorted[0]\n",
    "positionsname = last_position[\"position\"]\n",
    "start = parse_date(last_position[\"startDate\"])\n",
    "end = parse_date(last_position[\"endDate\"])\n",
    "if end is None:\n",
    "    end = datetime.now()\n",
    "wechselzeitraum = (end.year - start.year) * 12 + (end.month - start.month)\n",
    "\n",
    "print(\"Positionsname:\", positionsname)\n",
    "print(\"Wechselzeitraum (Monate):\", wechselzeitraum)\n",
    "\n",
    "# 5. Mapping laden\n",
    "with open(\"/Users/florianrunkel/Documents/02_Uni/04_Masterarbeit/masterthesis/backend/ml_pipe/data/dataModule/tft/position_to_idx.json\", \"r\") as f:\n",
    "    position_to_idx = json.load(f)\n",
    "\n",
    "if positionsname not in position_to_idx:\n",
    "    print(f\"Achtung: Position '{positionsname}' nicht im Mapping! Fallback auf 'UNK' oder Index 0.\")\n",
    "    pos_idx = position_to_idx.get(\"UNK\", 0)\n",
    "else:\n",
    "    pos_idx = position_to_idx[positionsname]\n",
    "\n",
    "\n",
    "# 6. Eingabevektor für das Modell bauen\n",
    "x_seq = torch.tensor(\n",
    "    [[position_to_idx[positionsname], wechselzeitraum]],\n",
    "    dtype=torch.float32\n",
    ")\n",
    "\n",
    "print(\"Eingabevektor für Modell:\", x_seq)\n",
    "\n",
    "# 7. Modell laden\n",
    "model = TFTModel(sequence_features=2, hidden_size=64, dropout=0.1)\n",
    "model.load_state_dict(\n",
    "    torch.load(\"saved_models/tft_20250508_150223.pt\")[\"model_state_dict\"]\n",
    ")\n",
    "model.eval()\n",
    "\n",
    "# 8. Vorhersage\n",
    "with torch.no_grad():\n",
    "    pred = model(x_seq)\n",
    "    pred_class = torch.argmax(pred, dim=1).item()\n",
    "    print(\"Vorhergesagte Klasse:\", pred_class)\n",
    "    print(\"Softmax-Wahrscheinlichkeiten:\", torch.softmax(pred, dim=1).numpy())"
   ]
  },
  {
   "cell_type": "code",
   "execution_count": null,
   "metadata": {},
   "outputs": [],
   "source": []
  }
 ],
 "metadata": {
  "kernelspec": {
   "display_name": "Python 3",
   "language": "python",
   "name": "python3"
  },
  "language_info": {
   "codemirror_mode": {
    "name": "ipython",
    "version": 3
   },
   "file_extension": ".py",
   "mimetype": "text/x-python",
   "name": "python",
   "nbconvert_exporter": "python",
   "pygments_lexer": "ipython3",
   "version": "3.12.1"
  }
 },
 "nbformat": 4,
 "nbformat_minor": 2
}
