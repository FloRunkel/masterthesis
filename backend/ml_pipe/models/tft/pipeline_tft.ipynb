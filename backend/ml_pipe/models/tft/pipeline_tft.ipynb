{
 "cells": [
  {
   "cell_type": "markdown",
   "metadata": {},
   "source": [
    "### TFT PIPELINE"
   ]
  },
  {
   "cell_type": "code",
   "execution_count": 1,
   "metadata": {},
   "outputs": [
    {
     "name": "stderr",
     "output_type": "stream",
     "text": [
      "/Library/Frameworks/Python.framework/Versions/3.12/lib/python3.12/site-packages/tqdm/auto.py:21: TqdmWarning: IProgress not found. Please update jupyter and ipywidgets. See https://ipywidgets.readthedocs.io/en/stable/user_install.html\n",
      "  from .autonotebook import tqdm as notebook_tqdm\n"
     ]
    }
   ],
   "source": [
    "import torch\n",
    "import numpy as np\n",
    "from datetime import datetime\n",
    "import os\n",
    "import matplotlib.pyplot as plt\n",
    "import seaborn as sns\n",
    "from sklearn.metrics import f1_score, confusion_matrix, classification_report\n",
    "from pytorch_lightning import Trainer\n",
    "from pytorch_lightning.callbacks import ModelCheckpoint, EarlyStopping\n",
    "from pytorch_lightning.loggers import TensorBoardLogger\n",
    "import sys\n",
    "sys.path.insert(0, '/Users/florianrunkel/Documents/02_Uni/04_Masterarbeit/masterthesis/')\n",
    "\n",
    "from backend.ml_pipe.data.database.mongodb import MongoDb\n",
    "from backend.ml_pipe.data.dataModule.dataModule import DataModule\n",
    "from backend.ml_pipe.models.tft.model import TFTModel\n"
   ]
  },
  {
   "cell_type": "code",
   "execution_count": 2,
   "metadata": {},
   "outputs": [
    {
     "name": "stdout",
     "output_type": "stream",
     "text": [
      "Starte Karriere-Vorhersage Pipeline...\n",
      "\n",
      "Lade Daten aus MongoDB...\n"
     ]
    },
    {
     "name": "stderr",
     "output_type": "stream",
     "text": [
      "GPU available: True (mps), used: True\n",
      "TPU available: False, using: 0 TPU cores\n",
      "HPU available: False, using: 0 HPUs\n"
     ]
    },
    {
     "name": "stdout",
     "output_type": "stream",
     "text": [
      "\n",
      "Datensatz aufgeteilt in:\n",
      "- Training: 385 Einträge\n",
      "- Validierung: 82 Einträge\n",
      "- Test: 83 Einträge\n",
      "\n",
      "Feature-Dimensionen:\n",
      "- Sequenz-Features pro Zeitschritt: 6\n",
      "- Globale Features: 3\n",
      "\n",
      "Datensatzgrößen:\n",
      "- Training: 385 Kandidaten\n",
      "- Validierung: 82 Kandidaten\n",
      "- Test: 83 Kandidaten\n",
      "\n",
      "Initialisiere CareerLSTM Modell...\n",
      "\n",
      "Starte Training...\n"
     ]
    },
    {
     "name": "stderr",
     "output_type": "stream",
     "text": [
      "/Library/Frameworks/Python.framework/Versions/3.12/lib/python3.12/site-packages/torch/optim/lr_scheduler.py:62: UserWarning: The verbose parameter is deprecated. Please use get_last_lr() to access the learning rate.\n",
      "  warnings.warn(\n",
      "\n",
      "  | Name             | Type               | Params | Mode \n",
      "----------------------------------------------------------------\n",
      "0 | loss_fn          | BCELoss            | 0      | train\n",
      "1 | sequence_encoder | LSTM               | 534 K  | train\n",
      "2 | attention        | MultiheadAttention | 263 K  | train\n",
      "3 | layer_norm       | LayerNorm          | 512    | train\n",
      "4 | global_encoder   | Sequential         | 17.0 K | train\n",
      "5 | fusion_layer     | Sequential         | 57.5 K | train\n",
      "6 | career_predictor | Sequential         | 2.1 K  | train\n",
      "----------------------------------------------------------------\n",
      "874 K     Trainable params\n",
      "0         Non-trainable params\n",
      "874 K     Total params\n",
      "3.500     Total estimated model params size (MB)\n",
      "25        Modules in train mode\n",
      "0         Modules in eval mode\n"
     ]
    },
    {
     "name": "stdout",
     "output_type": "stream",
     "text": [
      "Sanity Checking: |          | 0/? [00:00<?, ?it/s]"
     ]
    },
    {
     "name": "stderr",
     "output_type": "stream",
     "text": [
      "/Library/Frameworks/Python.framework/Versions/3.12/lib/python3.12/site-packages/pytorch_lightning/trainer/connectors/data_connector.py:419: Consider setting `persistent_workers=True` in 'val_dataloader' to speed up the dataloader worker initialization.\n"
     ]
    },
    {
     "name": "stdout",
     "output_type": "stream",
     "text": [
      "                                                                           \r"
     ]
    },
    {
     "name": "stderr",
     "output_type": "stream",
     "text": [
      "/Library/Frameworks/Python.framework/Versions/3.12/lib/python3.12/site-packages/pytorch_lightning/trainer/connectors/data_connector.py:419: Consider setting `persistent_workers=True` in 'train_dataloader' to speed up the dataloader worker initialization.\n"
     ]
    },
    {
     "name": "stdout",
     "output_type": "stream",
     "text": [
      "Epoch 15: 100%|██████████| 13/13 [00:45<00:00,  0.29it/s, v_num=13, train_loss=0.00732, train_acc=1.000, val_loss=0.261, val_acc=0.915]\n",
      "\n",
      "Evaluiere Modell auf Testdaten...\n"
     ]
    },
    {
     "name": "stderr",
     "output_type": "stream",
     "text": [
      "/Library/Frameworks/Python.framework/Versions/3.12/lib/python3.12/site-packages/pytorch_lightning/trainer/connectors/data_connector.py:419: Consider setting `persistent_workers=True` in 'test_dataloader' to speed up the dataloader worker initialization.\n"
     ]
    },
    {
     "name": "stdout",
     "output_type": "stream",
     "text": [
      "Testing DataLoader 0: 100%|██████████| 3/3 [00:00<00:00,  6.43it/s]\n"
     ]
    },
    {
     "data": {
      "text/html": [
       "<pre style=\"white-space:pre;overflow-x:auto;line-height:normal;font-family:Menlo,'DejaVu Sans Mono',consolas,'Courier New',monospace\">┏━━━━━━━━━━━━━━━━━━━━━━━━━━━┳━━━━━━━━━━━━━━━━━━━━━━━━━━━┓\n",
       "┃<span style=\"font-weight: bold\">        Test metric        </span>┃<span style=\"font-weight: bold\">       DataLoader 0        </span>┃\n",
       "┡━━━━━━━━━━━━━━━━━━━━━━━━━━━╇━━━━━━━━━━━━━━━━━━━━━━━━━━━┩\n",
       "│<span style=\"color: #008080; text-decoration-color: #008080\">         test_acc          </span>│<span style=\"color: #800080; text-decoration-color: #800080\">    0.9518072009086609     </span>│\n",
       "│<span style=\"color: #008080; text-decoration-color: #008080\">         test_loss         </span>│<span style=\"color: #800080; text-decoration-color: #800080\">    0.23116472363471985    </span>│\n",
       "└───────────────────────────┴───────────────────────────┘\n",
       "</pre>\n"
      ],
      "text/plain": [
       "┏━━━━━━━━━━━━━━━━━━━━━━━━━━━┳━━━━━━━━━━━━━━━━━━━━━━━━━━━┓\n",
       "┃\u001b[1m \u001b[0m\u001b[1m       Test metric       \u001b[0m\u001b[1m \u001b[0m┃\u001b[1m \u001b[0m\u001b[1m      DataLoader 0       \u001b[0m\u001b[1m \u001b[0m┃\n",
       "┡━━━━━━━━━━━━━━━━━━━━━━━━━━━╇━━━━━━━━━━━━━━━━━━━━━━━━━━━┩\n",
       "│\u001b[36m \u001b[0m\u001b[36m        test_acc         \u001b[0m\u001b[36m \u001b[0m│\u001b[35m \u001b[0m\u001b[35m   0.9518072009086609    \u001b[0m\u001b[35m \u001b[0m│\n",
       "│\u001b[36m \u001b[0m\u001b[36m        test_loss        \u001b[0m\u001b[36m \u001b[0m│\u001b[35m \u001b[0m\u001b[35m   0.23116472363471985   \u001b[0m\u001b[35m \u001b[0m│\n",
       "└───────────────────────────┴───────────────────────────┘\n"
      ]
     },
     "metadata": {},
     "output_type": "display_data"
    },
    {
     "name": "stdout",
     "output_type": "stream",
     "text": [
      "\n",
      "Speichere Modell...\n",
      "\n",
      "Modell gespeichert unter: saved_models/career_lstm_20250502_111126.pt\n",
      "Beste Validation Loss: 0.2287\n"
     ]
    }
   ],
   "source": [
    "def run_pipeline():\n",
    "    print(\"Starte Karriere-Vorhersage Pipeline...\")\n",
    "    \n",
    "    # Datenquelle initialisieren\n",
    "    print(\"\\nLade Daten aus MongoDB...\")\n",
    "    mongo = MongoDb()\n",
    "    datamodule = DataModule(mongo, batch_size=32)\n",
    "    datamodule.setup()\n",
    "    \n",
    "    print(f\"\\nDatensatzgrößen:\")\n",
    "    print(f\"- Training: {len(datamodule.train_data)} Kandidaten\")\n",
    "    print(f\"- Validierung: {len(datamodule.val_data)} Kandidaten\")\n",
    "    print(f\"- Test: {len(datamodule.test_data)} Kandidaten\")\n",
    "    \n",
    "    # Modell initialisieren\n",
    "    print(\"\\nInitialisiere CareerLSTM Modell...\")\n",
    "    model = TFTModel(\n",
    "        sequence_features=datamodule.sequence_dim,  # 13 Features pro Zeitschritt\n",
    "        global_features=datamodule.global_dim,      # 9 globale Features\n",
    "        hidden_size=128,\n",
    "        num_layers=2,\n",
    "        dropout=0.2,\n",
    "        bidirectional=True,\n",
    "        lr=1e-3\n",
    "    )\n",
    "    \n",
    "    # Callbacks\n",
    "    checkpoint_cb = ModelCheckpoint(\n",
    "        monitor=\"val_loss\",\n",
    "        save_top_k=1,\n",
    "        mode=\"min\",\n",
    "        filename=\"career_lstm-{epoch:02d}-{val_loss:.2f}\"\n",
    "    )\n",
    "    \n",
    "    early_stopping = EarlyStopping(\n",
    "        monitor=\"val_loss\",\n",
    "        patience=5,\n",
    "        mode=\"min\",\n",
    "        min_delta=0.001\n",
    "    )\n",
    "    \n",
    "    # Logger\n",
    "    logger = TensorBoardLogger(\"lightning_logs\", name=\"career_lstm\")\n",
    "    \n",
    "    # Trainer Setup\n",
    "    trainer = Trainer(\n",
    "        max_epochs=50,\n",
    "        logger=logger,\n",
    "        callbacks=[checkpoint_cb, early_stopping],\n",
    "        accelerator=\"auto\",  # Automatische GPU-Erkennung\n",
    "        devices=1,\n",
    "        enable_progress_bar=True,\n",
    "        log_every_n_steps=10\n",
    "    )\n",
    "    \n",
    "    # Training\n",
    "    print(\"\\nStarte Training...\")\n",
    "    trainer.fit(model, datamodule=datamodule)\n",
    "    \n",
    "    # Evaluation auf Testdaten\n",
    "    print(\"\\nEvaluiere Modell auf Testdaten...\")\n",
    "    test_results = trainer.test(model, datamodule=datamodule)\n",
    "    \n",
    "    # Detaillierte Evaluation\n",
    "    model.eval()\n",
    "\n",
    "    # Modell speichern\n",
    "    timestamp = datetime.now().strftime(\"%Y%m%d_%H%M%S\")\n",
    "    model_path = f\"saved_models/career_lstm_{timestamp}.pt\"\n",
    "    \n",
    "    print(\"\\nSpeichere Modell...\")\n",
    "    os.makedirs(os.path.dirname(model_path), exist_ok=True)\n",
    "    torch.save({\n",
    "        'model_state_dict': model.state_dict(),\n",
    "        'hyperparameters': model.hparams,\n",
    "        'sequence_dim': datamodule.sequence_dim,\n",
    "        'global_dim': datamodule.global_dim,\n",
    "        'training_metrics': {\n",
    "            'best_val_loss': checkpoint_cb.best_model_score.item(),\n",
    "        }\n",
    "    }, model_path)\n",
    "    \n",
    "    print(f\"\\nModell gespeichert unter: {model_path}\")\n",
    "    print(f\"Beste Validation Loss: {checkpoint_cb.best_model_score:.4f}\")\n",
    "    \n",
    "    return model, trainer\n",
    "\n",
    "if __name__ == \"__main__\":\n",
    "    model, trainer = run_pipeline()"
   ]
  },
  {
   "cell_type": "code",
   "execution_count": 3,
   "metadata": {},
   "outputs": [
    {
     "name": "stdout",
     "output_type": "stream",
     "text": [
      "\n",
      "Vorhersageergebnis:\n",
      "Status: sehr wahrscheinlich wechselbereit\n",
      "Konfidenz: 70.93%\n",
      "\n",
      "Empfehlungen:\n",
      "- Der Kandidat zeigt starke Anzeichen für einen bevorstehenden Wechsel.\n",
      "- Aktive Ansprache empfohlen.\n",
      "- Wechselwahrscheinlichkeit: 70.9%\n",
      "- • Zeit seit Beginn: Dieses Feature beeinflusst die Wechselwahrscheinlichkeit zu 44.6% mit. (44.6% Einfluss)\n",
      "- • Zeit bis Ende: Dieses Feature beeinflusst die Wechselwahrscheinlichkeit zu 25.8% mit. (25.8% Einfluss)\n",
      "- • Beschäftigungsdauer: Dieses Feature beeinflusst die Wechselwahrscheinlichkeit zu 18.8% mit. (18.8% Einfluss)\n",
      "\n",
      "Feature-Wichtigkeiten:\n",
      "- Zeit seit Beginn: 44.6% - Dieses Feature beeinflusst die Wechselwahrscheinlichkeit zu 44.6% mit.\n",
      "- Zeit bis Ende: 25.8% - Dieses Feature beeinflusst die Wechselwahrscheinlichkeit zu 25.8% mit.\n",
      "- Beschäftigungsdauer: 18.8% - Dieses Feature beeinflusst die Wechselwahrscheinlichkeit zu 18.8% mit.\n",
      "- Berufserfahrung: 6.2% - Dieses Feature beeinflusst die Wechselwahrscheinlichkeit zu 6.2% mit.\n",
      "- Position Level: 2.0% - Dieses Feature beeinflusst die Wechselwahrscheinlichkeit zu 2.0% mit.\n",
      "- Alterskategorie: 1.4% - Dieses Feature beeinflusst die Wechselwahrscheinlichkeit zu 1.4% mit.\n"
     ]
    },
    {
     "name": "stderr",
     "output_type": "stream",
     "text": [
      "/Users/florianrunkel/Documents/02_Uni/04_Masterarbeit/masterthesis/backend/ml_pipe/models/tft/predict.py:168: FutureWarning: You are using `torch.load` with `weights_only=False` (the current default value), which uses the default pickle module implicitly. It is possible to construct malicious pickle data which will execute arbitrary code during unpickling (See https://github.com/pytorch/pytorch/blob/main/SECURITY.md#untrusted-models for more details). In a future release, the default value for `weights_only` will be flipped to `True`. This limits the functions that could be executed during unpickling. Arbitrary objects will no longer be allowed to be loaded via this mode unless they are explicitly allowlisted by the user via `torch.serialization.add_safe_globals`. We recommend you start setting `weights_only=True` for any use case where you don't have full control of the loaded file. Please open an issue on GitHub for any issues related to this experimental feature.\n",
      "  checkpoint = torch.load(model_path)\n"
     ]
    }
   ],
   "source": [
    "import sys\n",
    "import json\n",
    "sys.path.insert(0, '/Users/florianrunkel/Documents/02_Uni/04_Masterarbeit/masterthesis/')\n",
    "\n",
    "from backend.ml_pipe.models.tft.predict import predict\n",
    "\n",
    "# LinkedIn Profildaten als Raw-String (beachte das 'r' vor dem String)\n",
    "linkedin_data_str = r'''{\"skills\":[\"Multitasking\",\"Kundenservice\",\"Interpersonelle Fähigkeiten\",\"Kaltakquise\",\"Hubspot CRM\",\"Customer-Relationship-Management (CRM)\"],\"firstName\":\"Darya\",\"lastName\":\"Chernuska\",\"profilePicture\":\"https://media.licdn.com/dms/image/v2/D4E03AQE0yuZ6cg8f4A/profile-displayphoto-shrink_100_100/profile-displayphoto-shrink_100_100/0/1670856025914?e=1749686400&v=beta&t=jI1mkiVnkD7teWPncsg8QtKAwZKB-az53_4ny7C7XvI\",\"linkedinProfile\":\"https://www.linkedin.com/in/daryachernuska\",\"education\":[{\"duration\":\"01/01/2017 - 01/01/2022\",\"institution\":\"Ludwig-Maximilians-Universität München\",\"endDate\":\"01/01/2022\",\"degree\":\"\",\"startDate\":\"01/01/2017\"}],\"providerId\":\"ACoAAD0rz_IBI0XfqqBDUscwHoFwuOqJa_c5T2I\",\"workExperience\":[{\"duration\":\"01/03/2023 - Present\",\"endDate\":\"Present\",\"companyInformation\":{\"employee_count\":515,\"activities\":[\"Telefonie\",\"Internet\",\"Vernetzung\",\"Rechenzentrum\",\"Glasfaser\",\"Highspeed-Internet\",\"Business-Internet\",\"SIP-Trunk\",\"Cloud-Lösungen\",\"Connect-Cloud\",\"Connect-LAN\",\"Premium IP\",\"Internet + Telefonie\",\"Lösungen für Geschäftskunden\"],\"name\":\"M-net Telekommunikations GmbH\",\"description\":\"Als regionaler Telekommunikationsanbieter versorgt M-net große Teile Bayerns, den Großraum Ulm sowie weite Teile des hessischen Landkreises Main-Kinzig mit zukunftssicherer Kommunikationstechnologie.\",\"industry\":[\"Telecommunications\"]},\"description\":\"\",\"company\":\"M-net Telekommunikations GmbH\",\"location\":\"München, Bayern, Deutschland · Hybrid\",\"position\":\"Disponentin\",\"startDate\":\"01/03/2023\"},{\"duration\":\"01/08/2022 - 01/12/2022\",\"endDate\":\"01/12/2022\",\"companyInformation\":{\"employee_count\":2048,\"activities\":[\"HR Software\",\"HR Management\",\"Recruitung\",\"Employee Management\",\"Applicant Tracking System\",\"Employee Selfservice\",\"Time-Off Management\",\"Cloud Software\",\"Onboarding and Offboarding\",\"HR Reporting\",\"Performance Management\",\"Payroll\",\"HR\",\"HR Tech\",\"Human Resources\"],\"name\":\"Personio\",\"description\":\"Personio's Intelligent HR Platform helps small and medium-sized organizations unlock the power of people by making complicated, time-consuming tasks simple and efficient.\",\"industry\":[\"Software Development\"]},\"description\":\"\",\"company\":\"Personio\",\"location\":\"München, Bayern, Deutschland\",\"position\":\"Sales Development Representative\",\"startDate\":\"01/08/2022\"},{\"duration\":\"01/11/2017 - 01/07/2022\",\"endDate\":\"01/07/2022\",\"companyInformation\":{\"employee_count\":662,\"activities\":[\"Scandinavian design\",\"Furniture\",\"Design\",\"Product design\",\"Retail\",\"Web\",\"Steelcase partner\",\"Wholesale\",\"B2B\",\"Contract sales\",\"Online\",\"Digital\",\"Creativity\"],\"name\":\"BOLIA\",\"description\":\"Our collection is inspired by the vivid Scandinavian nature\",\"industry\":[\"Retail Furniture and Home Furnishings\"]},\"description\":\"\",\"company\":\"Bolia.com\",\"location\":\"München, Bayern, Deutschland\",\"position\":\"Sales Consultant\",\"startDate\":\"01/11/2017\"},{\"duration\":\"01/10/2015 - 01/11/2017\",\"endDate\":\"01/11/2017\",\"companyInformation\":{},\"description\":\"\",\"company\":\"Pepperminds\",\"location\":\"München, Bayern, Deutschland\",\"position\":\"Senior Team Lead\",\"startDate\":\"01/10/2015\"}],\"location\":\"Munich, Bavaria, Germany\",\"certifications\":[],\"headline\":\"-\",\"languageSkills\":{}}'''\n",
    "\n",
    "try:\n",
    "    # JSON-String in Dictionary umwandeln\n",
    "    profile_data = json.loads(linkedin_data_str)\n",
    "    \n",
    "    # Vorhersage machen\n",
    "    result = predict(profile_data)\n",
    "    print(\"\\nVorhersageergebnis:\")\n",
    "    print(f\"Status: {result['status']}\")\n",
    "    print(f\"Konfidenz: {result['confidence'][0]:.2%}\")\n",
    "    print(\"\\nEmpfehlungen:\")\n",
    "    for rec in result['recommendations']:\n",
    "        print(f\"- {rec}\")\n",
    "    print(\"\\nFeature-Wichtigkeiten:\")\n",
    "    for exp in result['explanations']:\n",
    "        print(f\"- {exp['feature']}: {exp['impact_percentage']:.1f}% - {exp['description']}\")\n",
    "        \n",
    "except json.JSONDecodeError as e:\n",
    "    print(f\"JSON Fehler: {str(e)}\")\n",
    "    print(f\"Fehler an Position: {e.pos}\")\n",
    "    print(f\"Zeile: {e.lineno}, Spalte: {e.colno}\")"
   ]
  }
 ],
 "metadata": {
  "kernelspec": {
   "display_name": "Python 3",
   "language": "python",
   "name": "python3"
  },
  "language_info": {
   "codemirror_mode": {
    "name": "ipython",
    "version": 3
   },
   "file_extension": ".py",
   "mimetype": "text/x-python",
   "name": "python",
   "nbconvert_exporter": "python",
   "pygments_lexer": "ipython3",
   "version": "3.12.1"
  }
 },
 "nbformat": 4,
 "nbformat_minor": 2
}
