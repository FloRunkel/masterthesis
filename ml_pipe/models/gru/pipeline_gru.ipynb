{
 "cells": [
  {
   "cell_type": "markdown",
   "metadata": {},
   "source": [
    "### GRU PIPELINE"
   ]
  },
  {
   "cell_type": "code",
   "execution_count": 17,
   "metadata": {},
   "outputs": [],
   "source": [
    "from sklearn.metrics import f1_score\n",
    "from pytorch_lightning import Trainer\n",
    "from datetime import datetime\n",
    "import torch\n",
    "import os\n",
    "\n",
    "import sys\n",
    "sys.path.insert(0, '/Users/florianrunkel/Documents/02_Uni/04_Masterarbeit/masterthesis/')\n",
    "\n",
    "from ml_pipe.data.database.mongodb import MongoDb\n",
    "from ml_pipe.data.dataModule.dataModule import DataModule\n",
    "from ml_pipe.models.gru.model import GRUModel"
   ]
  },
  {
   "cell_type": "code",
   "execution_count": 18,
   "metadata": {},
   "outputs": [
    {
     "name": "stderr",
     "output_type": "stream",
     "text": [
      "GPU available: True (mps), used: True\n",
      "TPU available: False, using: 0 TPU cores\n",
      "HPU available: False, using: 0 HPUs\n",
      "/Library/Frameworks/Python.framework/Versions/3.12/lib/python3.12/site-packages/torch/optim/lr_scheduler.py:62: UserWarning: The verbose parameter is deprecated. Please use get_last_lr() to access the learning rate.\n",
      "  warnings.warn(\n",
      "\n",
      "  | Name    | Type    | Params | Mode \n",
      "--------------------------------------------\n",
      "0 | gru     | GRU     | 3.5 K  | train\n",
      "1 | fc      | Linear  | 33     | train\n",
      "2 | sigmoid | Sigmoid | 0      | train\n",
      "3 | loss_fn | BCELoss | 0      | train\n",
      "--------------------------------------------\n",
      "3.5 K     Trainable params\n",
      "0         Non-trainable params\n",
      "3.5 K     Total params\n",
      "0.014     Total estimated model params size (MB)\n",
      "4         Modules in train mode\n",
      "0         Modules in eval mode\n"
     ]
    },
    {
     "name": "stdout",
     "output_type": "stream",
     "text": [
      "                                                                           "
     ]
    },
    {
     "name": "stderr",
     "output_type": "stream",
     "text": [
      "/Library/Frameworks/Python.framework/Versions/3.12/lib/python3.12/site-packages/pytorch_lightning/trainer/connectors/data_connector.py:424: The 'val_dataloader' does not have many workers which may be a bottleneck. Consider increasing the value of the `num_workers` argument` to `num_workers=7` in the `DataLoader` to improve performance.\n",
      "/Library/Frameworks/Python.framework/Versions/3.12/lib/python3.12/site-packages/pytorch_lightning/trainer/connectors/data_connector.py:424: The 'train_dataloader' does not have many workers which may be a bottleneck. Consider increasing the value of the `num_workers` argument` to `num_workers=7` in the `DataLoader` to improve performance.\n"
     ]
    },
    {
     "name": "stdout",
     "output_type": "stream",
     "text": [
      "Epoch 9: 100%|██████████| 37/37 [00:00<00:00, 45.90it/s, train_loss=0.544, train_acc=0.769, val_loss=0.606, val_acc=0.711]"
     ]
    },
    {
     "name": "stderr",
     "output_type": "stream",
     "text": [
      "`Trainer.fit` stopped: `max_epochs=10` reached.\n"
     ]
    },
    {
     "name": "stdout",
     "output_type": "stream",
     "text": [
      "Epoch 9: 100%|██████████| 37/37 [00:00<00:00, 45.85it/s, train_loss=0.544, train_acc=0.769, val_loss=0.606, val_acc=0.711]\n"
     ]
    },
    {
     "name": "stderr",
     "output_type": "stream",
     "text": [
      "/Library/Frameworks/Python.framework/Versions/3.12/lib/python3.12/site-packages/pytorch_lightning/trainer/connectors/data_connector.py:424: The 'test_dataloader' does not have many workers which may be a bottleneck. Consider increasing the value of the `num_workers` argument` to `num_workers=7` in the `DataLoader` to improve performance.\n"
     ]
    },
    {
     "name": "stdout",
     "output_type": "stream",
     "text": [
      "Testing DataLoader 0: 100%|██████████| 16/16 [00:00<00:00, 139.11it/s]\n"
     ]
    },
    {
     "data": {
      "text/html": [
       "<pre style=\"white-space:pre;overflow-x:auto;line-height:normal;font-family:Menlo,'DejaVu Sans Mono',consolas,'Courier New',monospace\">┏━━━━━━━━━━━━━━━━━━━━━━━━━━━┳━━━━━━━━━━━━━━━━━━━━━━━━━━━┓\n",
       "┃<span style=\"font-weight: bold\">        Test metric        </span>┃<span style=\"font-weight: bold\">       DataLoader 0        </span>┃\n",
       "┡━━━━━━━━━━━━━━━━━━━━━━━━━━━╇━━━━━━━━━━━━━━━━━━━━━━━━━━━┩\n",
       "│<span style=\"color: #008080; text-decoration-color: #008080\">         test_acc          </span>│<span style=\"color: #800080; text-decoration-color: #800080\">    0.7233201861381531     </span>│\n",
       "│<span style=\"color: #008080; text-decoration-color: #008080\">         test_loss         </span>│<span style=\"color: #800080; text-decoration-color: #800080\">     0.592319667339325     </span>│\n",
       "└───────────────────────────┴───────────────────────────┘\n",
       "</pre>\n"
      ],
      "text/plain": [
       "┏━━━━━━━━━━━━━━━━━━━━━━━━━━━┳━━━━━━━━━━━━━━━━━━━━━━━━━━━┓\n",
       "┃\u001b[1m \u001b[0m\u001b[1m       Test metric       \u001b[0m\u001b[1m \u001b[0m┃\u001b[1m \u001b[0m\u001b[1m      DataLoader 0       \u001b[0m\u001b[1m \u001b[0m┃\n",
       "┡━━━━━━━━━━━━━━━━━━━━━━━━━━━╇━━━━━━━━━━━━━━━━━━━━━━━━━━━┩\n",
       "│\u001b[36m \u001b[0m\u001b[36m        test_acc         \u001b[0m\u001b[36m \u001b[0m│\u001b[35m \u001b[0m\u001b[35m   0.7233201861381531    \u001b[0m\u001b[35m \u001b[0m│\n",
       "│\u001b[36m \u001b[0m\u001b[36m        test_loss        \u001b[0m\u001b[36m \u001b[0m│\u001b[35m \u001b[0m\u001b[35m    0.592319667339325    \u001b[0m\u001b[35m \u001b[0m│\n",
       "└───────────────────────────┴───────────────────────────┘\n"
      ]
     },
     "metadata": {},
     "output_type": "display_data"
    },
    {
     "name": "stdout",
     "output_type": "stream",
     "text": [
      "F1 Score auf Validierungsdaten: 0.8394\n"
     ]
    }
   ],
   "source": [
    "def run_pipeline():\n",
    "    # Datenquelle initialisieren\n",
    "    mongo = MongoDb()\n",
    "    datamodule = DataModule(mongo, batch_size=16)\n",
    "    datamodule.setup()\n",
    "\n",
    "    # Modell initialisieren\n",
    "    input_size = datamodule.train_data[0][0].shape[-1]\n",
    "    model = GRUModel(input_size=input_size, hidden_size=32)\n",
    "\n",
    "    # Trainer Setup\n",
    "    trainer = Trainer(\n",
    "        max_epochs=10,\n",
    "        enable_checkpointing=False,\n",
    "        logger=False,\n",
    "        enable_model_summary=True,\n",
    "        log_every_n_steps=10\n",
    "    )\n",
    "\n",
    "    # Training\n",
    "    trainer.fit(model, datamodule=datamodule)\n",
    "\n",
    "    # Testdaten durchlaufen\n",
    "    trainer.test(model, datamodule=datamodule)\n",
    "\n",
    "    # Evaluation: F1 Score manuell berechnen\n",
    "    all_preds = []\n",
    "    all_targets = []\n",
    "\n",
    "    model.eval()\n",
    "    model.freeze()\n",
    "\n",
    "    for x, y in datamodule.val_dataloader():\n",
    "        x = x.to(model.device)\n",
    "        y = y.to(model.device)\n",
    "\n",
    "        with torch.no_grad():\n",
    "            preds = model(x)\n",
    "            preds = (preds > 0.5).float()\n",
    "\n",
    "        all_preds.extend(preds.cpu().numpy())\n",
    "        all_targets.extend(y.cpu().numpy())\n",
    "\n",
    "    f1 = f1_score(all_targets, all_preds)\n",
    "    print(f\"F1 Score auf Validierungsdaten: {f1:.4f}\")\n",
    "\n",
    "    # Modell speichern\n",
    "    #timestamp = datetime.now().strftime(\"%Y%m%d_%H%M%S\")\n",
    "    #model_path = f\"saved_models/gru_model_{timestamp}.pt\"\n",
    "\n",
    "    # Ordner anlegen (falls nicht vorhanden) und Modell speichern\n",
    "    #os.makedirs(os.path.dirname(model_path), exist_ok=True)\n",
    "    #torch.save(model.state_dict(), model_path)\n",
    "\n",
    "    #print(f\"Modell gespeichert unter: {model_path}\")\n",
    "\n",
    "run_pipeline()"
   ]
  },
  {
   "cell_type": "code",
   "execution_count": 13,
   "metadata": {},
   "outputs": [],
   "source": [
    "def predict(input_sequence, model_path=\"saved_models/gru_model_20250408_174259.pt\", input_size=2, hidden_size=32):\n",
    "    model = GRUModel(input_size=input_size, hidden_size=hidden_size)\n",
    "    model.load_state_dict(torch.load(model_path))\n",
    "    model.eval()\n",
    "\n",
    "    input_tensor = torch.tensor(input_sequence, dtype=torch.float32).unsqueeze(0)  # [1, seq_len, features]\n",
    "    with torch.no_grad():\n",
    "        pred = model(input_tensor)\n",
    "    return float(pred.item()), \"wechselbereit\" if pred.item() > 0.5 else \"bleibt wahrscheinlich\""
   ]
  },
  {
   "cell_type": "code",
   "execution_count": 14,
   "metadata": {},
   "outputs": [
    {
     "name": "stdout",
     "output_type": "stream",
     "text": [
      "Wechselwahrscheinlichkeit: 0.79 → Einschätzung: wechselbereit\n"
     ]
    },
    {
     "name": "stderr",
     "output_type": "stream",
     "text": [
      "/var/folders/hw/wbg7dg7934z5jd1dv8g7rxjc0000gn/T/ipykernel_42118/8934691.py:3: FutureWarning: You are using `torch.load` with `weights_only=False` (the current default value), which uses the default pickle module implicitly. It is possible to construct malicious pickle data which will execute arbitrary code during unpickling (See https://github.com/pytorch/pytorch/blob/main/SECURITY.md#untrusted-models for more details). In a future release, the default value for `weights_only` will be flipped to `True`. This limits the functions that could be executed during unpickling. Arbitrary objects will no longer be allowed to be loaded via this mode unless they are explicitly allowlisted by the user via `torch.serialization.add_safe_globals`. We recommend you start setting `weights_only=True` for any use case where you don't have full control of the loaded file. Please open an issue on GitHub for any issues related to this experimental feature.\n",
      "  model.load_state_dict(torch.load(model_path))\n"
     ]
    }
   ],
   "source": [
    "example_input = [[24, 2], [36, 3], [12, 3]]  # z. B. [Dauer in Monaten, Level]\n",
    "prob, status = predict(example_input)\n",
    "print(f\"Wechselwahrscheinlichkeit: {prob:.2f} → Einschätzung: {status}\")"
   ]
  }
 ],
 "metadata": {
  "kernelspec": {
   "display_name": "Python 3",
   "language": "python",
   "name": "python3"
  },
  "language_info": {
   "codemirror_mode": {
    "name": "ipython",
    "version": 3
   },
   "file_extension": ".py",
   "mimetype": "text/x-python",
   "name": "python",
   "nbconvert_exporter": "python",
   "pygments_lexer": "ipython3",
   "version": "3.12.1"
  }
 },
 "nbformat": 4,
 "nbformat_minor": 2
}
