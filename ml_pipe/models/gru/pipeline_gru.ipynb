{
 "cells": [
  {
   "cell_type": "markdown",
   "metadata": {},
   "source": [
    "### GRU PIPELINE"
   ]
  },
  {
   "cell_type": "code",
   "execution_count": 1,
   "metadata": {},
   "outputs": [
    {
     "name": "stderr",
     "output_type": "stream",
     "text": [
      "/Library/Frameworks/Python.framework/Versions/3.12/lib/python3.12/site-packages/tqdm/auto.py:21: TqdmWarning: IProgress not found. Please update jupyter and ipywidgets. See https://ipywidgets.readthedocs.io/en/stable/user_install.html\n",
      "  from .autonotebook import tqdm as notebook_tqdm\n"
     ]
    }
   ],
   "source": [
    "from sklearn.metrics import f1_score\n",
    "from pytorch_lightning import Trainer\n",
    "from datetime import datetime\n",
    "import torch\n",
    "import os\n",
    "from sklearn.metrics import mean_squared_error, mean_absolute_error, r2_score\n",
    "import numpy as np\n",
    "\n",
    "import sys\n",
    "sys.path.insert(0, '/Users/florianrunkel/Documents/02_Uni/04_Masterarbeit/masterthesis/')\n",
    "\n",
    "from ml_pipe.data.database.mongodb import MongoDb\n",
    "from ml_pipe.data.dataModule.dataModule import DataModule\n",
    "from ml_pipe.models.gru.model import GRUModel"
   ]
  },
  {
   "cell_type": "code",
   "execution_count": 5,
   "metadata": {},
   "outputs": [
    {
     "name": "stderr",
     "output_type": "stream",
     "text": [
      "GPU available: True (mps), used: True\n",
      "TPU available: False, using: 0 TPU cores\n",
      "HPU available: False, using: 0 HPUs\n",
      "\n",
      "   | Name     | Type    | Params | Mode \n",
      "----------------------------------------------\n",
      "0  | gru1     | GRU     | 13.2 K | train\n",
      "1  | dropout1 | Dropout | 0      | train\n",
      "2  | gru2     | GRU     | 25.0 K | train\n",
      "3  | dropout2 | Dropout | 0      | train\n",
      "4  | gru3     | GRU     | 25.0 K | train\n",
      "5  | dropout3 | Dropout | 0      | train\n",
      "6  | gru4     | GRU     | 25.0 K | train\n",
      "7  | dropout4 | Dropout | 0      | train\n",
      "8  | fc       | Linear  | 65     | train\n",
      "9  | tanh     | Tanh    | 0      | train\n",
      "10 | loss_fn  | MSELoss | 0      | train\n",
      "----------------------------------------------\n",
      "88.2 K    Trainable params\n",
      "0         Non-trainable params\n",
      "88.2 K    Total params\n",
      "0.353     Total estimated model params size (MB)\n",
      "11        Modules in train mode\n",
      "0         Modules in eval mode\n"
     ]
    },
    {
     "name": "stdout",
     "output_type": "stream",
     "text": [
      "                                                                           "
     ]
    },
    {
     "name": "stderr",
     "output_type": "stream",
     "text": [
      "/Library/Frameworks/Python.framework/Versions/3.12/lib/python3.12/site-packages/pytorch_lightning/trainer/connectors/data_connector.py:424: The 'val_dataloader' does not have many workers which may be a bottleneck. Consider increasing the value of the `num_workers` argument` to `num_workers=7` in the `DataLoader` to improve performance.\n",
      "/Library/Frameworks/Python.framework/Versions/3.12/lib/python3.12/site-packages/pytorch_lightning/trainer/connectors/data_connector.py:424: The 'train_dataloader' does not have many workers which may be a bottleneck. Consider increasing the value of the `num_workers` argument` to `num_workers=7` in the `DataLoader` to improve performance.\n"
     ]
    },
    {
     "name": "stdout",
     "output_type": "stream",
     "text": [
      "Epoch 9: 100%|██████████| 260/260 [00:22<00:00, 11.81it/s, v_num=9, train_loss=0.301, val_loss=0.223]"
     ]
    },
    {
     "name": "stderr",
     "output_type": "stream",
     "text": [
      "`Trainer.fit` stopped: `max_epochs=10` reached.\n"
     ]
    },
    {
     "name": "stdout",
     "output_type": "stream",
     "text": [
      "Epoch 9: 100%|██████████| 260/260 [00:22<00:00, 11.80it/s, v_num=9, train_loss=0.301, val_loss=0.223]\n"
     ]
    },
    {
     "name": "stderr",
     "output_type": "stream",
     "text": [
      "/Library/Frameworks/Python.framework/Versions/3.12/lib/python3.12/site-packages/pytorch_lightning/trainer/connectors/data_connector.py:424: The 'test_dataloader' does not have many workers which may be a bottleneck. Consider increasing the value of the `num_workers` argument` to `num_workers=7` in the `DataLoader` to improve performance.\n"
     ]
    },
    {
     "name": "stdout",
     "output_type": "stream",
     "text": [
      "Testing DataLoader 0: 100%|██████████| 112/112 [00:02<00:00, 39.73it/s]\n"
     ]
    },
    {
     "data": {
      "text/html": [
       "<pre style=\"white-space:pre;overflow-x:auto;line-height:normal;font-family:Menlo,'DejaVu Sans Mono',consolas,'Courier New',monospace\">┏━━━━━━━━━━━━━━━━━━━━━━━━━━━┳━━━━━━━━━━━━━━━━━━━━━━━━━━━┓\n",
       "┃<span style=\"font-weight: bold\">        Test metric        </span>┃<span style=\"font-weight: bold\">       DataLoader 0        </span>┃\n",
       "┡━━━━━━━━━━━━━━━━━━━━━━━━━━━╇━━━━━━━━━━━━━━━━━━━━━━━━━━━┩\n",
       "│<span style=\"color: #008080; text-decoration-color: #008080\">         test_loss         </span>│<span style=\"color: #800080; text-decoration-color: #800080\">    0.21875019371509552    </span>│\n",
       "└───────────────────────────┴───────────────────────────┘\n",
       "</pre>\n"
      ],
      "text/plain": [
       "┏━━━━━━━━━━━━━━━━━━━━━━━━━━━┳━━━━━━━━━━━━━━━━━━━━━━━━━━━┓\n",
       "┃\u001b[1m \u001b[0m\u001b[1m       Test metric       \u001b[0m\u001b[1m \u001b[0m┃\u001b[1m \u001b[0m\u001b[1m      DataLoader 0       \u001b[0m\u001b[1m \u001b[0m┃\n",
       "┡━━━━━━━━━━━━━━━━━━━━━━━━━━━╇━━━━━━━━━━━━━━━━━━━━━━━━━━━┩\n",
       "│\u001b[36m \u001b[0m\u001b[36m        test_loss        \u001b[0m\u001b[36m \u001b[0m│\u001b[35m \u001b[0m\u001b[35m   0.21875019371509552   \u001b[0m\u001b[35m \u001b[0m│\n",
       "└───────────────────────────┴───────────────────────────┘\n"
      ]
     },
     "metadata": {},
     "output_type": "display_data"
    },
    {
     "name": "stdout",
     "output_type": "stream",
     "text": [
      " Evaluationsmetriken: F1 Score: 0.8070 MSE: 0.3235 RMSE: 0.5688  MAE: 0.3235 R²: -0.4782 \n",
      "Modell gespeichert unter: saved_models/gru_model_20250415_113500.pt\n"
     ]
    }
   ],
   "source": [
    "def run_pipeline():\n",
    "    # Datenquelle initialisieren\n",
    "    mongo = MongoDb()\n",
    "    datamodule = DataModule(mongo, batch_size=32)  # Größerer Batch für bessere Stabilität\n",
    "    datamodule.setup()\n",
    "\n",
    "    # Modell initialisieren\n",
    "    input_size = datamodule.train_data[0][0].shape[-1]\n",
    "    sequence_length = datamodule.train_data[0][0].shape[0]\n",
    "    \n",
    "    model = GRUModel(\n",
    "        input_size=input_size,\n",
    "        hidden_size=64,    # Mehr Units für komplexere Sequenzen\n",
    "        num_layers=3,      # 3 GRU-Schichten\n",
    "        dropout=0.3,       # Mehr Dropout gegen Overfitting\n",
    "        lr=0.001,         # Kleinere Lernrate für stabileres Training\n",
    "    )\n",
    "\n",
    "    # Trainer Setup\n",
    "    trainer = Trainer(\n",
    "        max_epochs=10,                    # Mehr Epochen für besseres Lernen\n",
    "        enable_checkpointing=True,\n",
    "        logger=True,\n",
    "        enable_model_summary=True,\n",
    "        log_every_n_steps=10,\n",
    "        accelerator=\"auto\",\n",
    "        devices=\"auto\",\n",
    "    )\n",
    "\n",
    "    # Training\n",
    "    trainer.fit(model, datamodule=datamodule)\n",
    "\n",
    "    # Testdaten durchlaufen\n",
    "    trainer.test(model, datamodule=datamodule)\n",
    "\n",
    "    # Evaluation\n",
    "    all_preds = []\n",
    "    all_targets = []\n",
    "\n",
    "    model.eval()\n",
    "    model.freeze()\n",
    "\n",
    "    for x, y in datamodule.val_dataloader():\n",
    "        x = x.to(model.device)\n",
    "        y = y.to(model.device)\n",
    "\n",
    "        with torch.no_grad():\n",
    "            preds = model(x)\n",
    "            preds = (preds > 0.5).float()\n",
    "\n",
    "        all_preds.extend(preds.cpu().numpy())\n",
    "        all_targets.extend(y.cpu().numpy())\n",
    "\n",
    "    # Metriken berechnen\n",
    "    f1 = f1_score(all_targets, all_preds)\n",
    "    mse = mean_squared_error(all_targets, all_preds)\n",
    "    rmse = np.sqrt(mse)\n",
    "    mae = mean_absolute_error(all_targets, all_preds)\n",
    "    r2 = r2_score(all_targets, all_preds)\n",
    "    print(f\"\"\" Evaluationsmetriken: F1 Score: {f1:.4f} MSE: {mse:.4f} RMSE: {rmse:.4f}  MAE: {mae:.4f} R²: {r2:.4f} \"\"\")\n",
    "\n",
    "    # Modell speichern\n",
    "    timestamp = datetime.now().strftime(\"%Y%m%d_%H%M%S\")\n",
    "    model_path = f\"saved_models/gru_model_{timestamp}.pt\"\n",
    "\n",
    "    # Ordner anlegen (falls nicht vorhanden) und Modell speichern\n",
    "    os.makedirs(os.path.dirname(model_path), exist_ok=True)\n",
    "    torch.save(model.state_dict(), model_path)\n",
    "\n",
    "    print(f\"Modell gespeichert unter: {model_path}\")\n",
    "\n",
    "run_pipeline()"
   ]
  },
  {
   "cell_type": "code",
   "execution_count": 14,
   "metadata": {},
   "outputs": [],
   "source": [
    "def predict(input_sequence, model_path=\"saved_models/gru_model_20250415_113500.pt\"):\n",
    "    \"\"\"\n",
    "    Macht eine Vorhersage basierend auf einer Sequenz von Positionen.\n",
    "    \n",
    "    Args:\n",
    "        input_sequence: Liste von Positionen, jede Position ist [Dauer, Level, Branche]\n",
    "        model_path: Pfad zum gespeicherten Modell\n",
    "        \n",
    "    Returns:\n",
    "        tuple: (Wahrscheinlichkeit, Status)\n",
    "    \"\"\"\n",
    "    # Modell mit den korrekten Hyperparametern initialisieren\n",
    "    model = GRUModel(\n",
    "        input_size=3,        # 3 Features: [Dauer, Level, Branche]\n",
    "        hidden_size=64,      # 64 versteckte Units\n",
    "        num_layers=4,        # 4 GRU-Schichten\n",
    "        dropout=0.2,         # 20% Dropout\n",
    "        lr=0.01             # Lernrate\n",
    "    )\n",
    "    \n",
    "    # Modell laden\n",
    "    checkpoint = torch.load(model_path)\n",
    "    \n",
    "    # Prüfen, ob es sich um ein Dictionary oder direkt um state_dict handelt\n",
    "    if isinstance(checkpoint, dict):\n",
    "        if 'model_state_dict' in checkpoint:\n",
    "            model.load_state_dict(checkpoint['model_state_dict'])\n",
    "        else:\n",
    "            model.load_state_dict(checkpoint)\n",
    "    else:\n",
    "        model.load_state_dict(checkpoint)\n",
    "    \n",
    "    model.eval()\n",
    "\n",
    "    # Input vorbereiten\n",
    "    input_tensor = torch.tensor(input_sequence, dtype=torch.float32).unsqueeze(0)\n",
    "    \n",
    "    # Vorhersage machen\n",
    "    with torch.no_grad():\n",
    "        pred = model(input_tensor)\n",
    "    \n",
    "    # Vorhersage interpretieren\n",
    "    pred_value = float(pred.item())\n",
    "    \n",
    "    # Interpretation der Vorhersage\n",
    "    if pred_value > 0.7:\n",
    "        status = \"sehr wahrscheinlich wechselbereit\"\n",
    "    elif pred_value > 0.5:\n",
    "        status = \"wahrscheinlich wechselbereit\"\n",
    "    elif pred_value > 0.3:\n",
    "        status = \"möglicherweise wechselbereit\"\n",
    "    else:\n",
    "        status = \"bleibt wahrscheinlich\"\n",
    "    \n",
    "    return pred_value, status"
   ]
  },
  {
   "cell_type": "code",
   "execution_count": 20,
   "metadata": {},
   "outputs": [
    {
     "name": "stdout",
     "output_type": "stream",
     "text": [
      "Wechselwahrscheinlichkeit: 0.51 → Einschätzung: wahrscheinlich wechselbereit\n"
     ]
    },
    {
     "name": "stderr",
     "output_type": "stream",
     "text": [
      "/var/folders/hw/wbg7dg7934z5jd1dv8g7rxjc0000gn/T/ipykernel_37715/1796039434.py:22: FutureWarning: You are using `torch.load` with `weights_only=False` (the current default value), which uses the default pickle module implicitly. It is possible to construct malicious pickle data which will execute arbitrary code during unpickling (See https://github.com/pytorch/pytorch/blob/main/SECURITY.md#untrusted-models for more details). In a future release, the default value for `weights_only` will be flipped to `True`. This limits the functions that could be executed during unpickling. Arbitrary objects will no longer be allowed to be loaded via this mode unless they are explicitly allowlisted by the user via `torch.serialization.add_safe_globals`. We recommend you start setting `weights_only=True` for any use case where you don't have full control of the loaded file. Please open an issue on GitHub for any issues related to this experimental feature.\n",
      "  checkpoint = torch.load(model_path)\n"
     ]
    }
   ],
   "source": [
    "# Test für SDR zu AE Wechsel\n",
    "prediction_input = [\n",
    "    [64, 1, 12],  # Sales Development Representative: 12 Monate, Level 1, Sales (12)   # Account Executive: 1 Monat, Level 2, Sales (12)\n",
    "]\n",
    "\n",
    "prob, status = predict(prediction_input)\n",
    "print(f\"Wechselwahrscheinlichkeit: {prob:.2f} → Einschätzung: {status}\")"
   ]
  }
 ],
 "metadata": {
  "kernelspec": {
   "display_name": "Python 3",
   "language": "python",
   "name": "python3"
  },
  "language_info": {
   "codemirror_mode": {
    "name": "ipython",
    "version": 3
   },
   "file_extension": ".py",
   "mimetype": "text/x-python",
   "name": "python",
   "nbconvert_exporter": "python",
   "pygments_lexer": "ipython3",
   "version": "3.12.1"
  }
 },
 "nbformat": 4,
 "nbformat_minor": 2
}
