{
 "cells": [
  {
   "cell_type": "markdown",
   "metadata": {},
   "source": [
    "### XGBoost PIPELINE"
   ]
  },
  {
   "cell_type": "code",
   "execution_count": 1,
   "metadata": {},
   "outputs": [],
   "source": [
    "import joblib\n",
    "from datetime import datetime\n",
    "import numpy as np\n",
    "import os\n",
    "from sklearn.model_selection import train_test_split\n",
    "\n",
    "import sys\n",
    "sys.path.insert(0, '/Users/florianrunkel/Documents/02_Uni/04_Masterarbeit/masterthesis/')\n",
    "\n",
    "from ml_pipe.data.database.mongodb import MongoDb\n",
    "from ml_pipe.data.featureEngineering.featureEngineering import featureEngineering\n",
    "\n",
    "from ml_pipe.models.xgboost.model import XGBoostModel"
   ]
  },
  {
   "cell_type": "code",
   "execution_count": 4,
   "metadata": {},
   "outputs": [
    {
     "name": "stdout",
     "output_type": "stream",
     "text": [
      "Starte XGBoost-Pipeline...\n",
      "Keine gültigen Erfahrungen mit Position und Startdatum gefunden\n",
      "Keine gültigen Erfahrungen mit Position und Startdatum gefunden\n",
      "Keine gültigen Erfahrungen mit Position und Startdatum gefunden\n",
      "Keine gültigen Erfahrungen mit Position und Startdatum gefunden\n",
      "Keine gültigen Erfahrungen mit Position und Startdatum gefunden\n",
      "Keine gültigen Erfahrungen mit Position und Startdatum gefunden\n",
      "Keine gültigen Erfahrungen mit Position und Startdatum gefunden\n",
      "Keine gültigen Erfahrungen mit Position und Startdatum gefunden\n",
      "Keine gültigen Erfahrungen mit Position und Startdatum gefunden\n",
      "Shape von X: (2247, 51)\n",
      "Shape von y: (2247,)\n",
      "Trainingsdaten: (1572, 51), Validierungsdaten: (675, 51)\n",
      "F1 Score:     0.9992\n",
      "Accuracy:     0.9985\n",
      "Klassifikationsbericht:\n",
      "              precision    recall  f1-score   support\n",
      "\n",
      "           0       0.95      1.00      0.97        19\n",
      "           1       1.00      1.00      1.00       656\n",
      "\n",
      "    accuracy                           1.00       675\n",
      "   macro avg       0.97      1.00      0.99       675\n",
      "weighted avg       1.00      1.00      1.00       675\n",
      "\n",
      "Modell gespeichert unter: saved_models/xgboost_model_20250415_183015.joblib\n"
     ]
    },
    {
     "name": "stderr",
     "output_type": "stream",
     "text": [
      "/Library/Frameworks/Python.framework/Versions/3.12/lib/python3.12/site-packages/xgboost/training.py:183: UserWarning: [18:30:15] WARNING: /Users/runner/work/xgboost/xgboost/src/learner.cc:738: \n",
      "Parameters: { \"use_label_encoder\" } are not used.\n",
      "\n",
      "  bst.update(dtrain, iteration=i, fobj=obj)\n"
     ]
    }
   ],
   "source": [
    "def run_xgboost_pipeline():\n",
    "    print(\"Starte XGBoost-Pipeline...\")\n",
    "\n",
    "    # Daten aus MongoDB holen\n",
    "    mongo = MongoDb()\n",
    "    raw_docs = mongo.get({}, \"CareerData\")\n",
    "\n",
    "    # Feature Engineering\n",
    "    fe = featureEngineering()\n",
    "    X = np.array([fe.extract_features_for_xgboost(doc) for doc in raw_docs])\n",
    "    y = np.array([1 if len(doc.get(\"experiences\", doc.get(\"career_history\", []))) > 1 else 0 for doc in raw_docs])\n",
    "\n",
    "    print(f\"Shape von X: {X.shape}\")\n",
    "    print(f\"Shape von y: {y.shape}\")\n",
    "\n",
    "    if len(X) == 0:\n",
    "        print(\"Keine gültigen Daten für Training gefunden.\")\n",
    "        return\n",
    "\n",
    "    # Train/Validation Split\n",
    "    X_train, X_val, y_train, y_val = train_test_split(X, y, test_size=0.3, random_state=42)\n",
    "\n",
    "    print(f\"Trainingsdaten: {X_train.shape}, Validierungsdaten: {X_val.shape}\")\n",
    "\n",
    "    # Modell trainieren\n",
    "    model = XGBoostModel()\n",
    "    model.train(X_train, y_train)\n",
    "\n",
    "    # Evaluieren\n",
    "    model.evaluate(X_val, y_val, show_report=True)\n",
    "\n",
    "    # Modell speichern mit Timestamp\n",
    "    timestamp = datetime.now().strftime(\"%Y%m%d_%H%M%S\")\n",
    "    model_path = f\"saved_models/xgboost_model_{timestamp}.joblib\"\n",
    "    os.makedirs(os.path.dirname(model_path), exist_ok=True)\n",
    "    joblib.dump(model.model, model_path)\n",
    "    print(f\"Modell gespeichert unter: {model_path}\")\n",
    "\n",
    "run_xgboost_pipeline()"
   ]
  },
  {
   "cell_type": "code",
   "execution_count": 22,
   "metadata": {},
   "outputs": [],
   "source": [
    "def predict(input_sequence, model_path=\"saved_models/xgboost_model_20250415_183015.joblib\", expected_steps=51):\n",
    "    model = joblib.load(model_path)\n",
    "\n",
    "    expected_features_per_step = 3\n",
    "    expected_steps_count = expected_steps // expected_features_per_step  # 17 Schritte\n",
    "\n",
    "    # Sicherstellen, dass jeder Eintrag 3 Features hat\n",
    "    padded = input_sequence[:expected_steps_count]  # kürzen auf 17\n",
    "    while len(padded) < expected_steps_count:\n",
    "        padded.append([0, 0, 0])  # auffüllen mit 0er Steps\n",
    "\n",
    "    # In flaches Array umwandeln\n",
    "    input_array = np.array(padded, dtype=np.float32).flatten().reshape(1, -1)\n",
    "\n",
    "    prob = model.predict_proba(input_array)[0][1]\n",
    "    status = \"wechselbereit\" if prob > 0.5 else \"bleibt wahrscheinlich\"\n",
    "    return float(prob), status"
   ]
  },
  {
   "cell_type": "code",
   "execution_count": 23,
   "metadata": {},
   "outputs": [
    {
     "name": "stdout",
     "output_type": "stream",
     "text": [
      "Wechselwahrscheinlichkeit: 0.90 → Einschätzung: wechselbereit\n"
     ]
    }
   ],
   "source": [
    "example_input = [[24, 2, 1], [36, 3, 1], [12, 3, 1]]  # z. B. [Dauer in Monaten, Level, Branche]\n",
    "prob, status = predict(example_input)\n",
    "print(f\"Wechselwahrscheinlichkeit: {prob:.2f} → Einschätzung: {status}\")"
   ]
  }
 ],
 "metadata": {
  "kernelspec": {
   "display_name": "Python 3",
   "language": "python",
   "name": "python3"
  },
  "language_info": {
   "codemirror_mode": {
    "name": "ipython",
    "version": 3
   },
   "file_extension": ".py",
   "mimetype": "text/x-python",
   "name": "python",
   "nbconvert_exporter": "python",
   "pygments_lexer": "ipython3",
   "version": "3.12.1"
  }
 },
 "nbformat": 4,
 "nbformat_minor": 2
}
