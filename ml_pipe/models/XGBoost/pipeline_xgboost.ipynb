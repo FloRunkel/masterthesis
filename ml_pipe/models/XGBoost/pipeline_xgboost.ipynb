{
 "cells": [
  {
   "cell_type": "markdown",
   "metadata": {},
   "source": [
    "### XGBoost PIPELINE"
   ]
  },
  {
   "cell_type": "code",
   "execution_count": 18,
   "metadata": {},
   "outputs": [],
   "source": [
    "import joblib\n",
    "from datetime import datetime\n",
    "import numpy as np\n",
    "import os\n",
    "from sklearn.model_selection import train_test_split\n",
    "\n",
    "import sys\n",
    "sys.path.insert(0, '/Users/florianrunkel/Documents/02_Uni/04_Masterarbeit/masterthesis/')\n",
    "\n",
    "from ml_pipe.data.database.mongodb import MongoDb\n",
    "from ml_pipe.data.featureEngineering.featureEngineering import featureEngineering\n",
    "\n",
    "from ml_pipe.models.xgboost.model import XGBoostModel"
   ]
  },
  {
   "cell_type": "code",
   "execution_count": 19,
   "metadata": {},
   "outputs": [
    {
     "name": "stdout",
     "output_type": "stream",
     "text": [
      "Starte XGBoost-Pipeline...\n",
      "Trainingsdaten: (589, 51), Validierungsdaten: (253, 51)\n",
      "F1 Score:     0.7688\n",
      "Accuracy:     0.6482\n",
      "Klassifikationsbericht:\n",
      "              precision    recall  f1-score   support\n",
      "\n",
      "         0.0       0.33      0.22      0.26        72\n",
      "         1.0       0.73      0.82      0.77       181\n",
      "\n",
      "    accuracy                           0.65       253\n",
      "   macro avg       0.53      0.52      0.52       253\n",
      "weighted avg       0.61      0.65      0.63       253\n",
      "\n",
      "Modell gespeichert unter: saved_models/xgboost_model_20250410_110704.joblib\n"
     ]
    },
    {
     "name": "stderr",
     "output_type": "stream",
     "text": [
      "[11:07:04] WARNING: /Users/runner/work/xgboost/xgboost/src/learner.cc:738: \n",
      "Parameters: { \"use_label_encoder\" } are not used.\n",
      "\n"
     ]
    }
   ],
   "source": [
    "def run_xgboost_pipeline():\n",
    "    print(\"Starte XGBoost-Pipeline...\")\n",
    "\n",
    "    # Daten aus MongoDB holen\n",
    "    mongo = MongoDb()\n",
    "    raw_docs = mongo.get({}, \"CareerData\")\n",
    "\n",
    "    # Feature Engineering\n",
    "    fe = featureEngineering()\n",
    "    X, y = fe.extract_features_and_labels(raw_docs)\n",
    "\n",
    "    if len(X) == 0:\n",
    "        print(\"Keine gültigen Daten für Training gefunden.\")\n",
    "        return\n",
    "\n",
    "    # Tensor -> numpy\n",
    "    X_np = X.view(-1, X.shape[1] * X.shape[2]).numpy()\n",
    "    y_np = y.numpy().ravel()\n",
    "\n",
    "    # Train/Validation Split\n",
    "    X_train, X_val, y_train, y_val = train_test_split(X_np, y_np, test_size=0.3, random_state=42)\n",
    "\n",
    "    print(f\"Trainingsdaten: {X_train.shape}, Validierungsdaten: {X_val.shape}\")\n",
    "\n",
    "    # Modell trainieren\n",
    "    model = XGBoostModel()\n",
    "    model.train(X_train, y_train)\n",
    "\n",
    "    # Evaluieren\n",
    "    model.evaluate(X_val, y_val, show_report=True)\n",
    "\n",
    "    # Modell speichern mit Timestamp\n",
    "    timestamp = datetime.now().strftime(\"%Y%m%d_%H%M%S\")\n",
    "    model_path = f\"saved_models/xgboost_model_{timestamp}.joblib\"\n",
    "    os.makedirs(os.path.dirname(model_path), exist_ok=True)\n",
    "    joblib.dump(model.model, model_path)\n",
    "    print(f\"Modell gespeichert unter: {model_path}\")\n",
    "\n",
    "run_xgboost_pipeline()"
   ]
  },
  {
   "cell_type": "code",
   "execution_count": 22,
   "metadata": {},
   "outputs": [],
   "source": [
    "def predict(input_sequence, model_path=\"saved_models/xgboost_model_20250410_110704.joblib\", expected_steps=51):\n",
    "    model = joblib.load(model_path)\n",
    "\n",
    "    expected_features_per_step = 3\n",
    "    expected_steps_count = expected_steps // expected_features_per_step  # 17 Schritte\n",
    "\n",
    "    # Sicherstellen, dass jeder Eintrag 3 Features hat\n",
    "    padded = input_sequence[:expected_steps_count]  # kürzen auf 17\n",
    "    while len(padded) < expected_steps_count:\n",
    "        padded.append([0, 0, 0])  # auffüllen mit 0er Steps\n",
    "\n",
    "    # In flaches Array umwandeln\n",
    "    input_array = np.array(padded, dtype=np.float32).flatten().reshape(1, -1)\n",
    "\n",
    "    prob = model.predict_proba(input_array)[0][1]\n",
    "    status = \"wechselbereit\" if prob > 0.5 else \"bleibt wahrscheinlich\"\n",
    "    return float(prob), status"
   ]
  },
  {
   "cell_type": "code",
   "execution_count": 23,
   "metadata": {},
   "outputs": [
    {
     "name": "stdout",
     "output_type": "stream",
     "text": [
      "Wechselwahrscheinlichkeit: 0.90 → Einschätzung: wechselbereit\n"
     ]
    }
   ],
   "source": [
    "example_input = [[24, 2, 1], [36, 3, 1], [12, 3, 1]]  # z. B. [Dauer in Monaten, Level, Branche]\n",
    "prob, status = predict(example_input)\n",
    "print(f\"Wechselwahrscheinlichkeit: {prob:.2f} → Einschätzung: {status}\")"
   ]
  }
 ],
 "metadata": {
  "kernelspec": {
   "display_name": "Python 3",
   "language": "python",
   "name": "python3"
  },
  "language_info": {
   "codemirror_mode": {
    "name": "ipython",
    "version": 3
   },
   "file_extension": ".py",
   "mimetype": "text/x-python",
   "name": "python",
   "nbconvert_exporter": "python",
   "pygments_lexer": "ipython3",
   "version": "3.12.1"
  }
 },
 "nbformat": 4,
 "nbformat_minor": 2
}
